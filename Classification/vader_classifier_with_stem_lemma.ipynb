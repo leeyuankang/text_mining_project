{
 "cells": [
  {
   "cell_type": "markdown",
   "metadata": {},
   "source": [
    "# Sentiment Tagging with Vader"
   ]
  },
  {
   "cell_type": "code",
   "execution_count": 16,
   "metadata": {},
   "outputs": [],
   "source": [
    "from vaderSentiment.vaderSentiment import SentimentIntensityAnalyzer\n",
    "from nnsplit import NNSplit\n",
    "from nltk.corpus import stopwords\n",
    "from nltk.corpus import wordnet\n",
    "from nltk import pos_tag\n",
    "from nltk.stem import WordNetLemmatizer\n",
    "from nltk.stem import PorterStemmer\n",
    "\n",
    "import re\n",
    "import pandas as pd"
   ]
  },
  {
   "cell_type": "markdown",
   "metadata": {},
   "source": [
    "## Input unseen data"
   ]
  },
  {
   "cell_type": "markdown",
   "metadata": {},
   "source": [
    "### New review"
   ]
  },
  {
   "cell_type": "code",
   "execution_count": 17,
   "metadata": {},
   "outputs": [],
   "source": [
    "new_review = \"You When I booked with your company on line you showed me pictures of a room I thought I was getting and paying for and then when we arrived that s room was booked and the staff told me we could only book the villa suite theough them directly Which was completely false advertising After being there we realised that you have grouped lots of rooms on the photos together leaving me the consumer confused and extreamly disgruntled especially as its my my wife s 40th birthday present Please make your website more clear through pricing and photos as again I didn t really know what I was paying for and how much it had wnded up being Your photos told me I was getting something I wasn t Not happy and won t be using you again \""
   ]
  },
  {
   "cell_type": "markdown",
   "metadata": {},
   "source": [
    "### Split into sentence using NNSplit"
   ]
  },
  {
   "cell_type": "code",
   "execution_count": 18,
   "metadata": {},
   "outputs": [
    {
     "data": {
      "text/plain": [
       "['You When I booked with your company on line you showed me pictures of a room ',\n",
       " 'I thought I was getting and paying for and then when we arrived that s room was booked and the staff told me we could only book the villa suite theough them directly ',\n",
       " 'Which was completely false advertising ',\n",
       " 'After being there we realised that you have grouped lots of rooms on the photos together ',\n",
       " 'leaving me ',\n",
       " 'the consumer confused and extreamly disgruntled especially as its my ',\n",
       " 'my wife s 40th birthday ',\n",
       " 'present ',\n",
       " 'Please make your website more clear through pricing and photos ',\n",
       " 'as again ',\n",
       " 'I didn t really know what I was paying for and how much it had wnded up being ',\n",
       " 'Your photos told me I was getting something I wasn t Not happy and won t be using you again ']"
      ]
     },
     "execution_count": 18,
     "metadata": {},
     "output_type": "execute_result"
    }
   ],
   "source": [
    "sent_list = []\n",
    "splitter = NNSplit(\"en\")\n",
    "\n",
    "sent = splitter.split([new_review.strip()])\n",
    "for i in sent[0]:\n",
    "    new_string = ''\n",
    "    for j in i:\n",
    "        new_string += j.text + \" \"\n",
    "    sent_list.append(new_string)\n",
    "    \n",
    "sent_list"
   ]
  },
  {
   "cell_type": "markdown",
   "metadata": {},
   "source": [
    "### Filter sentence above 8 words"
   ]
  },
  {
   "cell_type": "code",
   "execution_count": 19,
   "metadata": {},
   "outputs": [],
   "source": [
    "def number_words(sentence):\n",
    "    return len(re.findall(r'\\w+', str(sentence)))\n",
    "\n",
    "new_sent_list = [] \n",
    "for sent in sent_list:\n",
    "    if number_words(sent) > 8:\n",
    "        new_sent_list.append(sent)\n"
   ]
  },
  {
   "cell_type": "markdown",
   "metadata": {},
   "source": [
    "### Data Cleaning"
   ]
  },
  {
   "cell_type": "code",
   "execution_count": 34,
   "metadata": {},
   "outputs": [],
   "source": [
    "def get_wordnet_pos(pos_tag):\n",
    "    if pos_tag.startswith('J'):\n",
    "        return wordnet.ADJ\n",
    "    elif pos_tag.startswith('V'):\n",
    "        return wordnet.VERB\n",
    "    elif pos_tag.startswith('N'):\n",
    "        return wordnet.NOUN\n",
    "    elif pos_tag.startswith('R'):\n",
    "        return wordnet.ADV\n",
    "    else:\n",
    "        return wordnet.NOUN\n",
    "    \n",
    "def lemmatize_text(text):\n",
    "    text = text.lower()\n",
    "    text = [t for t in text.split() if len(t) > 2]\n",
    "    lemmatizer = WordNetLemmatizer()\n",
    "    lemma_list = [lemmatizer.lemmatize(w) for w in text]\n",
    "    text = \" \".join(lemma_list)\n",
    "    print(\"Lemma text: \", text)\n",
    "    return text\n",
    "    \n",
    "def stem_text(text):\n",
    "    text = text.lower()\n",
    "    text = [t for t in text.split() if len(t) > 2]\n",
    "    stemmer = PorterStemmer()\n",
    "    stem_list = [stemmer.stem(w) for w in text]\n",
    "    text = \" \".join(stem_list)\n",
    "    print(\"Stemmed text :\", text)\n",
    "    return text\n",
    "    \n",
    "def clean_text(text):\n",
    "    # lower text\n",
    "    text = text.lower()\n",
    "    # tokenize text and remove puncutation\n",
    "    # text = [word.strip(string.punctuation) for word in text.split(\" \")]\n",
    "    # remove words that contain numbers\n",
    "    # text = [word for word in text if not any(c.isdigit() for c in word)]\n",
    "    # remove stop words\n",
    "    stop = stopwords.words('english')\n",
    "    text = [x for x in text.split() if x not in stop]\n",
    "    # remove empty tokens\n",
    "    text = [t for t in text if len(t) > 0]\n",
    "    # pos tag text\n",
    "    pos_tags = pos_tag(text)\n",
    "    # lemmatize text\n",
    "    text = [WordNetLemmatizer().lemmatize(t[0], get_wordnet_pos(t[1])) for t in pos_tags]\n",
    "    # remove words with only one letter\n",
    "    text = [t for t in text if len(t) > 1]\n",
    "    # join all\n",
    "    text = \" \".join(text)\n",
    "    return(text)"
   ]
  },
  {
   "cell_type": "code",
   "execution_count": 35,
   "metadata": {},
   "outputs": [
    {
     "name": "stdout",
     "output_type": "stream",
     "text": [
      "sentence : You When I booked with your company on line you showed me pictures of a room \n",
      "Lemma text:  you when booked with your company line you showed picture room\n",
      "Stemmed text : you when book with your compani line you show pictur room\n",
      "---------------------------\n",
      "sentence : I thought I was getting and paying for and then when we arrived that s room was booked and the staff told me we could only book the villa suite theough them directly \n",
      "Lemma text:  thought wa getting and paying for and then when arrived that room wa booked and the staff told could only book the villa suite theough them directly\n",
      "Stemmed text : thought wa get and pay for and then when arriv that room wa book and the staff told could onli book the villa suit theough them directli\n",
      "---------------------------\n",
      "sentence : After being there we realised that you have grouped lots of rooms on the photos together \n",
      "Lemma text:  after being there realised that you have grouped lot room the photo together\n",
      "Stemmed text : after be there realis that you have group lot room the photo togeth\n",
      "---------------------------\n",
      "sentence : the consumer confused and extreamly disgruntled especially as its my \n",
      "Lemma text:  the consumer confused and extreamly disgruntled especially it\n",
      "Stemmed text : the consum confus and extreamli disgruntl especi it\n",
      "---------------------------\n",
      "sentence : Please make your website more clear through pricing and photos \n",
      "Lemma text:  please make your website more clear through pricing and photo\n",
      "Stemmed text : pleas make your websit more clear through price and photo\n",
      "---------------------------\n",
      "sentence : I didn t really know what I was paying for and how much it had wnded up being \n",
      "Lemma text:  didn really know what wa paying for and how much had wnded being\n",
      "Stemmed text : didn realli know what wa pay for and how much had wnded be\n",
      "---------------------------\n",
      "sentence : Your photos told me I was getting something I wasn t Not happy and won t be using you again \n",
      "Lemma text:  your photo told wa getting something wasn not happy and won using you again\n",
      "Stemmed text : your photo told wa get someth wasn not happi and won use you again\n",
      "---------------------------\n"
     ]
    }
   ],
   "source": [
    "clean_sent_list = []\n",
    "lemma_sent_list = []\n",
    "stem_sent_list = []\n",
    "for sent in new_sent_list:\n",
    "    print(\"sentence :\", sent)\n",
    "    cleaned_text = clean_text(sent)\n",
    "    lemma_text = lemmatize_text(sent)\n",
    "    stemmed_text = stem_text(sent)\n",
    "    clean_sent_list.append(cleaned_text)\n",
    "    lemma_sent_list.append(lemma_text)\n",
    "    stem_sent_list.append(stemmed_text)\n",
    "    print(\"---------------------------\")"
   ]
  },
  {
   "cell_type": "code",
   "execution_count": 37,
   "metadata": {},
   "outputs": [
    {
     "data": {
      "text/plain": [
       "['you when book with your compani line you show pictur room',\n",
       " 'thought wa get and pay for and then when arriv that room wa book and the staff told could onli book the villa suit theough them directli',\n",
       " 'after be there realis that you have group lot room the photo togeth',\n",
       " 'the consum confus and extreamli disgruntl especi it',\n",
       " 'pleas make your websit more clear through price and photo',\n",
       " 'didn realli know what wa pay for and how much had wnded be',\n",
       " 'your photo told wa get someth wasn not happi and won use you again']"
      ]
     },
     "execution_count": 37,
     "metadata": {},
     "output_type": "execute_result"
    }
   ],
   "source": [
    "stem_sent_list"
   ]
  },
  {
   "cell_type": "markdown",
   "metadata": {},
   "source": [
    "### Convert list to dataframe"
   ]
  },
  {
   "cell_type": "code",
   "execution_count": 41,
   "metadata": {},
   "outputs": [
    {
     "data": {
      "text/html": [
       "<div>\n",
       "<style scoped>\n",
       "    .dataframe tbody tr th:only-of-type {\n",
       "        vertical-align: middle;\n",
       "    }\n",
       "\n",
       "    .dataframe tbody tr th {\n",
       "        vertical-align: top;\n",
       "    }\n",
       "\n",
       "    .dataframe thead th {\n",
       "        text-align: right;\n",
       "    }\n",
       "</style>\n",
       "<table border=\"1\" class=\"dataframe\">\n",
       "  <thead>\n",
       "    <tr style=\"text-align: right;\">\n",
       "      <th></th>\n",
       "      <th>sentence</th>\n",
       "    </tr>\n",
       "  </thead>\n",
       "  <tbody>\n",
       "    <tr>\n",
       "      <th>0</th>\n",
       "      <td>you when booked with your company line you sho...</td>\n",
       "    </tr>\n",
       "    <tr>\n",
       "      <th>1</th>\n",
       "      <td>thought wa getting and paying for and then whe...</td>\n",
       "    </tr>\n",
       "    <tr>\n",
       "      <th>2</th>\n",
       "      <td>after being there realised that you have group...</td>\n",
       "    </tr>\n",
       "    <tr>\n",
       "      <th>3</th>\n",
       "      <td>the consumer confused and extreamly disgruntle...</td>\n",
       "    </tr>\n",
       "    <tr>\n",
       "      <th>4</th>\n",
       "      <td>please make your website more clear through pr...</td>\n",
       "    </tr>\n",
       "    <tr>\n",
       "      <th>5</th>\n",
       "      <td>didn really know what wa paying for and how mu...</td>\n",
       "    </tr>\n",
       "    <tr>\n",
       "      <th>6</th>\n",
       "      <td>your photo told wa getting something wasn not ...</td>\n",
       "    </tr>\n",
       "  </tbody>\n",
       "</table>\n",
       "</div>"
      ],
      "text/plain": [
       "                                            sentence\n",
       "0  you when booked with your company line you sho...\n",
       "1  thought wa getting and paying for and then whe...\n",
       "2  after being there realised that you have group...\n",
       "3  the consumer confused and extreamly disgruntle...\n",
       "4  please make your website more clear through pr...\n",
       "5  didn really know what wa paying for and how mu...\n",
       "6  your photo told wa getting something wasn not ..."
      ]
     },
     "execution_count": 41,
     "metadata": {},
     "output_type": "execute_result"
    }
   ],
   "source": [
    "data = pd.DataFrame(lemma_sent_list, columns=[\"sentence\"])\n",
    "data"
   ]
  },
  {
   "cell_type": "markdown",
   "metadata": {},
   "source": [
    "### Get polarity"
   ]
  },
  {
   "cell_type": "code",
   "execution_count": 42,
   "metadata": {},
   "outputs": [
    {
     "data": {
      "text/html": [
       "<div>\n",
       "<style scoped>\n",
       "    .dataframe tbody tr th:only-of-type {\n",
       "        vertical-align: middle;\n",
       "    }\n",
       "\n",
       "    .dataframe tbody tr th {\n",
       "        vertical-align: top;\n",
       "    }\n",
       "\n",
       "    .dataframe thead th {\n",
       "        text-align: right;\n",
       "    }\n",
       "</style>\n",
       "<table border=\"1\" class=\"dataframe\">\n",
       "  <thead>\n",
       "    <tr style=\"text-align: right;\">\n",
       "      <th></th>\n",
       "      <th>sentence</th>\n",
       "      <th>polarity</th>\n",
       "    </tr>\n",
       "  </thead>\n",
       "  <tbody>\n",
       "    <tr>\n",
       "      <th>0</th>\n",
       "      <td>you when booked with your company line you sho...</td>\n",
       "      <td>0.0000</td>\n",
       "    </tr>\n",
       "    <tr>\n",
       "      <th>1</th>\n",
       "      <td>thought wa getting and paying for and then whe...</td>\n",
       "      <td>0.0000</td>\n",
       "    </tr>\n",
       "    <tr>\n",
       "      <th>2</th>\n",
       "      <td>after being there realised that you have group...</td>\n",
       "      <td>0.0000</td>\n",
       "    </tr>\n",
       "    <tr>\n",
       "      <th>3</th>\n",
       "      <td>the consumer confused and extreamly disgruntle...</td>\n",
       "      <td>-0.3182</td>\n",
       "    </tr>\n",
       "    <tr>\n",
       "      <th>4</th>\n",
       "      <td>please make your website more clear through pr...</td>\n",
       "      <td>0.6361</td>\n",
       "    </tr>\n",
       "    <tr>\n",
       "      <th>5</th>\n",
       "      <td>didn really know what wa paying for and how mu...</td>\n",
       "      <td>0.0000</td>\n",
       "    </tr>\n",
       "    <tr>\n",
       "      <th>6</th>\n",
       "      <td>your photo told wa getting something wasn not ...</td>\n",
       "      <td>-0.7181</td>\n",
       "    </tr>\n",
       "  </tbody>\n",
       "</table>\n",
       "</div>"
      ],
      "text/plain": [
       "                                            sentence  polarity\n",
       "0  you when booked with your company line you sho...    0.0000\n",
       "1  thought wa getting and paying for and then whe...    0.0000\n",
       "2  after being there realised that you have group...    0.0000\n",
       "3  the consumer confused and extreamly disgruntle...   -0.3182\n",
       "4  please make your website more clear through pr...    0.6361\n",
       "5  didn really know what wa paying for and how mu...    0.0000\n",
       "6  your photo told wa getting something wasn not ...   -0.7181"
      ]
     },
     "execution_count": 42,
     "metadata": {},
     "output_type": "execute_result"
    }
   ],
   "source": [
    "# This function gets the polarity of reviews using Vader # \n",
    "def get_polarity(sentence):\n",
    "    analyser = SentimentIntensityAnalyzer()\n",
    "    score = analyser.polarity_scores(sentence)\n",
    "    compound = score['compound']\n",
    "    return compound\n",
    "\n",
    "data['polarity'] = data['sentence'].apply(get_polarity)\n",
    "data"
   ]
  },
  {
   "cell_type": "markdown",
   "metadata": {},
   "source": [
    "### Aggregated polarity score"
   ]
  },
  {
   "cell_type": "code",
   "execution_count": 43,
   "metadata": {},
   "outputs": [
    {
     "name": "stdout",
     "output_type": "stream",
     "text": [
      "('negative', -0.05717142857142856)\n"
     ]
    }
   ],
   "source": [
    "polarity = data['polarity'].mean()\n",
    "if polarity >= 0.05:\n",
    "    sentiment = ('positive', polarity)\n",
    "elif polarity > -0.05 and polarity < 0.05: \n",
    "    sentiment = ('neutral', polarity)\n",
    "else: \n",
    "    sentiment = ('negative', polarity)\n",
    "print(sentiment)"
   ]
  },
  {
   "cell_type": "markdown",
   "metadata": {},
   "source": [
    "## Get Vader polarity score"
   ]
  },
  {
   "cell_type": "code",
   "execution_count": null,
   "metadata": {},
   "outputs": [],
   "source": [
    "# This function gets the polarity of reviews using Vader # \n",
    "def get_polarity(sentence):\n",
    "    analyser = SentimentIntensityAnalyzer()\n",
    "    score = analyser.polarity_scores(sentence)\n",
    "    compound = score['compound']\n",
    "    return compound\n",
    "    \n",
    "data['polarity'] = data['sentence'].apply(get_polarity)\n",
    "data"
   ]
  },
  {
   "cell_type": "code",
   "execution_count": null,
   "metadata": {},
   "outputs": [],
   "source": [
    "def number_words(sentence):\n",
    "    return len(re.findall(r'\\w+', str(sentence)))\n",
    "\n",
    "length = (data['sentence'].apply(number_words) > 1)\n",
    "data = data.loc[length]"
   ]
  },
  {
   "cell_type": "markdown",
   "metadata": {},
   "source": [
    "## Aggregate the polarity by grouping sentence by reviews"
   ]
  },
  {
   "cell_type": "code",
   "execution_count": null,
   "metadata": {},
   "outputs": [],
   "source": [
    "data['agg_polarity'] = data.groupby('reviews')['polarity'].transform('mean')"
   ]
  },
  {
   "cell_type": "code",
   "execution_count": null,
   "metadata": {},
   "outputs": [],
   "source": [
    "# data = data.drop_duplicates(subset=\"reviews\", keep=\"first\")\n",
    "# data = data.drop(['sentence','polarity'], axis=1)"
   ]
  },
  {
   "cell_type": "code",
   "execution_count": null,
   "metadata": {},
   "outputs": [],
   "source": [
    "data[\"review_sentiment\"] = [\"positive\" if x>=0.196725 else (\"neutral\" if x>=0.096725 else \"negative\") for x in data['agg_polarity']]\n",
    "data"
   ]
  },
  {
   "cell_type": "code",
   "execution_count": null,
   "metadata": {},
   "outputs": [],
   "source": [
    "data[\"sen_sentiment\"] = [\"positive\" if x>=0.1779 else (\"neutral\" if x>=0.01779 else \"negative\") for x in data['polarity']]\n",
    "data"
   ]
  },
  {
   "cell_type": "markdown",
   "metadata": {},
   "source": [
    "## Export "
   ]
  },
  {
   "cell_type": "code",
   "execution_count": null,
   "metadata": {},
   "outputs": [],
   "source": [
    "data.to_csv('./data/tagged_sentence_data.csv', index=False)"
   ]
  },
  {
   "cell_type": "markdown",
   "metadata": {},
   "source": [
    "## Setting to run to see all dataframe row"
   ]
  },
  {
   "cell_type": "code",
   "execution_count": null,
   "metadata": {},
   "outputs": [],
   "source": [
    "# view_data = data.loc[:, \"sentence\":\"sentiment\"]\n",
    "data.sort_values(by=['agg_polarity'], axis=0, inplace=True,ascending=False)\n",
    "\n",
    "pd.set_option('display.max_rows',None)\n",
    "pd.set_option('display.width', None)\n",
    "pd.set_option('display.max_colwidth', -1)\n",
    "data\n",
    "# Threshold: if polarity <= 0.1779: Negative"
   ]
  },
  {
   "cell_type": "code",
   "execution_count": 9,
   "metadata": {},
   "outputs": [
    {
     "name": "stderr",
     "output_type": "stream",
     "text": [
      "/Users/yuankanglee/opt/anaconda3/lib/python3.7/site-packages/ipykernel_launcher.py:3: FutureWarning: Passing a negative integer is deprecated in version 1.0 and will not be supported in future version. Instead, use None to not limit the column width.\n",
      "  This is separate from the ipykernel package so we can avoid doing imports until\n"
     ]
    }
   ],
   "source": [
    "pd.set_option('display.max_rows',None)\n",
    "pd.set_option('display.width', None)\n",
    "pd.set_option('display.max_colwidth', -1)"
   ]
  },
  {
   "cell_type": "code",
   "execution_count": null,
   "metadata": {},
   "outputs": [],
   "source": []
  }
 ],
 "metadata": {
  "kernelspec": {
   "display_name": "Python 3",
   "language": "python",
   "name": "python3"
  },
  "language_info": {
   "codemirror_mode": {
    "name": "ipython",
    "version": 3
   },
   "file_extension": ".py",
   "mimetype": "text/x-python",
   "name": "python",
   "nbconvert_exporter": "python",
   "pygments_lexer": "ipython3",
   "version": "3.7.7"
  }
 },
 "nbformat": 4,
 "nbformat_minor": 4
}
