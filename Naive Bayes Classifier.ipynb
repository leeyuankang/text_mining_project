{
 "cells": [
  {
   "cell_type": "markdown",
   "metadata": {},
   "source": [
    "# Naive Bayes Classifier "
   ]
  },
  {
   "cell_type": "markdown",
   "metadata": {},
   "source": [
    "## Import Statement"
   ]
  },
  {
   "cell_type": "code",
   "execution_count": 1,
   "metadata": {},
   "outputs": [],
   "source": [
    "from nltk.stem.porter import *\n",
    "from nltk.corpus import stopwords\n",
    "from nltk.stem import WordNetLemmatizer\n",
    "from gensim import corpora\n",
    "from gensim import models\n",
    "from sklearn.model_selection import KFold\n",
    "from sklearn.model_selection import train_test_split\n",
    "from sklearn.metrics import classification_report\n",
    "from sklearn.metrics import confusion_matrix   \n",
    "import nltk\n",
    "import pandas as pd \n",
    "import numpy as np\n",
    "import gensim\n",
    "import random"
   ]
  },
  {
   "cell_type": "markdown",
   "metadata": {},
   "source": [
    "## Load training file"
   ]
  },
  {
   "cell_type": "code",
   "execution_count": 2,
   "metadata": {},
   "outputs": [],
   "source": [
    "data = pd.read_csv(\"./data/cleaned_hotelreviews.csv\")"
   ]
  },
  {
   "cell_type": "markdown",
   "metadata": {},
   "source": [
    "## Data Preprocessing"
   ]
  },
  {
   "cell_type": "markdown",
   "metadata": {},
   "source": [
    "### Remove nan and Stopwords"
   ]
  },
  {
   "cell_type": "code",
   "execution_count": 3,
   "metadata": {},
   "outputs": [],
   "source": [
    "data = data.dropna()\n",
    "stop_list = stopwords.words('english')\n",
    "data['reviews'] = data['reviews'].apply(lambda x: [word for word in x.split() if word not in stop_list])"
   ]
  },
  {
   "cell_type": "markdown",
   "metadata": {},
   "source": [
    "### Remove single word"
   ]
  },
  {
   "cell_type": "code",
   "execution_count": 4,
   "metadata": {},
   "outputs": [],
   "source": [
    "data['reviews'] = data['reviews'].apply(lambda x: x if len(x) > 1 else [])"
   ]
  },
  {
   "cell_type": "code",
   "execution_count": 5,
   "metadata": {},
   "outputs": [],
   "source": [
    "# data[data['reviews'] != '[]'] has error has convert list to string\n",
    "cleaned_data = data[data.astype(str)['reviews'] != '[]']"
   ]
  },
  {
   "cell_type": "code",
   "execution_count": 6,
   "metadata": {},
   "outputs": [
    {
     "data": {
      "text/html": [
       "<div>\n",
       "<style scoped>\n",
       "    .dataframe tbody tr th:only-of-type {\n",
       "        vertical-align: middle;\n",
       "    }\n",
       "\n",
       "    .dataframe tbody tr th {\n",
       "        vertical-align: top;\n",
       "    }\n",
       "\n",
       "    .dataframe thead th {\n",
       "        text-align: right;\n",
       "    }\n",
       "</style>\n",
       "<table border=\"1\" class=\"dataframe\">\n",
       "  <thead>\n",
       "    <tr style=\"text-align: right;\">\n",
       "      <th></th>\n",
       "      <th>reviews</th>\n",
       "      <th>class</th>\n",
       "    </tr>\n",
       "  </thead>\n",
       "  <tbody>\n",
       "    <tr>\n",
       "      <td>0</td>\n",
       "      <td>[angry, made, post, available, via, possible, ...</td>\n",
       "      <td>negative</td>\n",
       "    </tr>\n",
       "    <tr>\n",
       "      <td>1</td>\n",
       "      <td>[rooms, nice, elderly, bit, difficult, rooms, ...</td>\n",
       "      <td>negative</td>\n",
       "    </tr>\n",
       "    <tr>\n",
       "      <td>2</td>\n",
       "      <td>[room, dirty, afraid, walk, barefoot, floor, l...</td>\n",
       "      <td>negative</td>\n",
       "    </tr>\n",
       "    <tr>\n",
       "      <td>3</td>\n",
       "      <td>[booked, company, line, showed, pictures, room...</td>\n",
       "      <td>negative</td>\n",
       "    </tr>\n",
       "    <tr>\n",
       "      <td>4</td>\n",
       "      <td>[backyard, hotel, total, mess, happen, hotel, ...</td>\n",
       "      <td>negative</td>\n",
       "    </tr>\n",
       "    <tr>\n",
       "      <td>...</td>\n",
       "      <td>...</td>\n",
       "      <td>...</td>\n",
       "    </tr>\n",
       "    <tr>\n",
       "      <td>834105</td>\n",
       "      <td>[good, breakfast]</td>\n",
       "      <td>positive</td>\n",
       "    </tr>\n",
       "    <tr>\n",
       "      <td>834106</td>\n",
       "      <td>[helpful, staff, allowed, check, early, arrive...</td>\n",
       "      <td>positive</td>\n",
       "    </tr>\n",
       "    <tr>\n",
       "      <td>834108</td>\n",
       "      <td>[breakfast, ok, got, earlier, check]</td>\n",
       "      <td>positive</td>\n",
       "    </tr>\n",
       "    <tr>\n",
       "      <td>834109</td>\n",
       "      <td>[rooms, enormous, really, comfortable, believe...</td>\n",
       "      <td>positive</td>\n",
       "    </tr>\n",
       "    <tr>\n",
       "      <td>834110</td>\n",
       "      <td>[staff, kind]</td>\n",
       "      <td>positive</td>\n",
       "    </tr>\n",
       "  </tbody>\n",
       "</table>\n",
       "<p>791439 rows × 2 columns</p>\n",
       "</div>"
      ],
      "text/plain": [
       "                                                  reviews     class\n",
       "0       [angry, made, post, available, via, possible, ...  negative\n",
       "1       [rooms, nice, elderly, bit, difficult, rooms, ...  negative\n",
       "2       [room, dirty, afraid, walk, barefoot, floor, l...  negative\n",
       "3       [booked, company, line, showed, pictures, room...  negative\n",
       "4       [backyard, hotel, total, mess, happen, hotel, ...  negative\n",
       "...                                                   ...       ...\n",
       "834105                                  [good, breakfast]  positive\n",
       "834106  [helpful, staff, allowed, check, early, arrive...  positive\n",
       "834108               [breakfast, ok, got, earlier, check]  positive\n",
       "834109  [rooms, enormous, really, comfortable, believe...  positive\n",
       "834110                                      [staff, kind]  positive\n",
       "\n",
       "[791439 rows x 2 columns]"
      ]
     },
     "execution_count": 6,
     "metadata": {},
     "output_type": "execute_result"
    }
   ],
   "source": [
    "cleaned_data"
   ]
  },
  {
   "cell_type": "markdown",
   "metadata": {},
   "source": [
    "### 1. Stemming "
   ]
  },
  {
   "cell_type": "code",
   "execution_count": 7,
   "metadata": {},
   "outputs": [],
   "source": [
    "stemmer = PorterStemmer()\n",
    "data_stem = cleaned_data.copy(deep=True)\n",
    "data_stem['reviews'] = data_stem['reviews'].apply(lambda x: [stemmer.stem(word) for word in x])"
   ]
  },
  {
   "cell_type": "code",
   "execution_count": 8,
   "metadata": {},
   "outputs": [
    {
     "data": {
      "text/html": [
       "<div>\n",
       "<style scoped>\n",
       "    .dataframe tbody tr th:only-of-type {\n",
       "        vertical-align: middle;\n",
       "    }\n",
       "\n",
       "    .dataframe tbody tr th {\n",
       "        vertical-align: top;\n",
       "    }\n",
       "\n",
       "    .dataframe thead th {\n",
       "        text-align: right;\n",
       "    }\n",
       "</style>\n",
       "<table border=\"1\" class=\"dataframe\">\n",
       "  <thead>\n",
       "    <tr style=\"text-align: right;\">\n",
       "      <th></th>\n",
       "      <th>reviews</th>\n",
       "      <th>class</th>\n",
       "    </tr>\n",
       "  </thead>\n",
       "  <tbody>\n",
       "    <tr>\n",
       "      <td>0</td>\n",
       "      <td>[angri, made, post, avail, via, possibl, site,...</td>\n",
       "      <td>negative</td>\n",
       "    </tr>\n",
       "    <tr>\n",
       "      <td>1</td>\n",
       "      <td>[room, nice, elderli, bit, difficult, room, tw...</td>\n",
       "      <td>negative</td>\n",
       "    </tr>\n",
       "    <tr>\n",
       "      <td>2</td>\n",
       "      <td>[room, dirti, afraid, walk, barefoot, floor, l...</td>\n",
       "      <td>negative</td>\n",
       "    </tr>\n",
       "    <tr>\n",
       "      <td>3</td>\n",
       "      <td>[book, compani, line, show, pictur, room, thou...</td>\n",
       "      <td>negative</td>\n",
       "    </tr>\n",
       "    <tr>\n",
       "      <td>4</td>\n",
       "      <td>[backyard, hotel, total, mess, happen, hotel, ...</td>\n",
       "      <td>negative</td>\n",
       "    </tr>\n",
       "    <tr>\n",
       "      <td>...</td>\n",
       "      <td>...</td>\n",
       "      <td>...</td>\n",
       "    </tr>\n",
       "    <tr>\n",
       "      <td>834105</td>\n",
       "      <td>[good, breakfast]</td>\n",
       "      <td>positive</td>\n",
       "    </tr>\n",
       "    <tr>\n",
       "      <td>834106</td>\n",
       "      <td>[help, staff, allow, check, earli, arriv, chec...</td>\n",
       "      <td>positive</td>\n",
       "    </tr>\n",
       "    <tr>\n",
       "      <td>834108</td>\n",
       "      <td>[breakfast, ok, got, earlier, check]</td>\n",
       "      <td>positive</td>\n",
       "    </tr>\n",
       "    <tr>\n",
       "      <td>834109</td>\n",
       "      <td>[room, enorm, realli, comfort, believ, famili,...</td>\n",
       "      <td>positive</td>\n",
       "    </tr>\n",
       "    <tr>\n",
       "      <td>834110</td>\n",
       "      <td>[staff, kind]</td>\n",
       "      <td>positive</td>\n",
       "    </tr>\n",
       "  </tbody>\n",
       "</table>\n",
       "<p>791439 rows × 2 columns</p>\n",
       "</div>"
      ],
      "text/plain": [
       "                                                  reviews     class\n",
       "0       [angri, made, post, avail, via, possibl, site,...  negative\n",
       "1       [room, nice, elderli, bit, difficult, room, tw...  negative\n",
       "2       [room, dirti, afraid, walk, barefoot, floor, l...  negative\n",
       "3       [book, compani, line, show, pictur, room, thou...  negative\n",
       "4       [backyard, hotel, total, mess, happen, hotel, ...  negative\n",
       "...                                                   ...       ...\n",
       "834105                                  [good, breakfast]  positive\n",
       "834106  [help, staff, allow, check, earli, arriv, chec...  positive\n",
       "834108               [breakfast, ok, got, earlier, check]  positive\n",
       "834109  [room, enorm, realli, comfort, believ, famili,...  positive\n",
       "834110                                      [staff, kind]  positive\n",
       "\n",
       "[791439 rows x 2 columns]"
      ]
     },
     "execution_count": 8,
     "metadata": {},
     "output_type": "execute_result"
    }
   ],
   "source": [
    "data_stem"
   ]
  },
  {
   "cell_type": "markdown",
   "metadata": {},
   "source": [
    "### 2. Lemetization"
   ]
  },
  {
   "cell_type": "code",
   "execution_count": 9,
   "metadata": {},
   "outputs": [],
   "source": [
    "lemmatizer = WordNetLemmatizer()\n",
    "data_lemmatize = cleaned_data.copy(deep=True)\n",
    "data_lemmatize['reviews'] = data_lemmatize['reviews'].apply(lambda x: [lemmatizer.lemmatize(word) for word in x])"
   ]
  },
  {
   "cell_type": "code",
   "execution_count": 10,
   "metadata": {},
   "outputs": [
    {
     "data": {
      "text/html": [
       "<div>\n",
       "<style scoped>\n",
       "    .dataframe tbody tr th:only-of-type {\n",
       "        vertical-align: middle;\n",
       "    }\n",
       "\n",
       "    .dataframe tbody tr th {\n",
       "        vertical-align: top;\n",
       "    }\n",
       "\n",
       "    .dataframe thead th {\n",
       "        text-align: right;\n",
       "    }\n",
       "</style>\n",
       "<table border=\"1\" class=\"dataframe\">\n",
       "  <thead>\n",
       "    <tr style=\"text-align: right;\">\n",
       "      <th></th>\n",
       "      <th>reviews</th>\n",
       "      <th>class</th>\n",
       "    </tr>\n",
       "  </thead>\n",
       "  <tbody>\n",
       "    <tr>\n",
       "      <td>0</td>\n",
       "      <td>[angry, made, post, available, via, possible, ...</td>\n",
       "      <td>negative</td>\n",
       "    </tr>\n",
       "    <tr>\n",
       "      <td>1</td>\n",
       "      <td>[room, nice, elderly, bit, difficult, room, tw...</td>\n",
       "      <td>negative</td>\n",
       "    </tr>\n",
       "    <tr>\n",
       "      <td>2</td>\n",
       "      <td>[room, dirty, afraid, walk, barefoot, floor, l...</td>\n",
       "      <td>negative</td>\n",
       "    </tr>\n",
       "    <tr>\n",
       "      <td>3</td>\n",
       "      <td>[booked, company, line, showed, picture, room,...</td>\n",
       "      <td>negative</td>\n",
       "    </tr>\n",
       "    <tr>\n",
       "      <td>4</td>\n",
       "      <td>[backyard, hotel, total, mess, happen, hotel, ...</td>\n",
       "      <td>negative</td>\n",
       "    </tr>\n",
       "    <tr>\n",
       "      <td>...</td>\n",
       "      <td>...</td>\n",
       "      <td>...</td>\n",
       "    </tr>\n",
       "    <tr>\n",
       "      <td>834105</td>\n",
       "      <td>[good, breakfast]</td>\n",
       "      <td>positive</td>\n",
       "    </tr>\n",
       "    <tr>\n",
       "      <td>834106</td>\n",
       "      <td>[helpful, staff, allowed, check, early, arrive...</td>\n",
       "      <td>positive</td>\n",
       "    </tr>\n",
       "    <tr>\n",
       "      <td>834108</td>\n",
       "      <td>[breakfast, ok, got, earlier, check]</td>\n",
       "      <td>positive</td>\n",
       "    </tr>\n",
       "    <tr>\n",
       "      <td>834109</td>\n",
       "      <td>[room, enormous, really, comfortable, believe,...</td>\n",
       "      <td>positive</td>\n",
       "    </tr>\n",
       "    <tr>\n",
       "      <td>834110</td>\n",
       "      <td>[staff, kind]</td>\n",
       "      <td>positive</td>\n",
       "    </tr>\n",
       "  </tbody>\n",
       "</table>\n",
       "<p>791439 rows × 2 columns</p>\n",
       "</div>"
      ],
      "text/plain": [
       "                                                  reviews     class\n",
       "0       [angry, made, post, available, via, possible, ...  negative\n",
       "1       [room, nice, elderly, bit, difficult, room, tw...  negative\n",
       "2       [room, dirty, afraid, walk, barefoot, floor, l...  negative\n",
       "3       [booked, company, line, showed, picture, room,...  negative\n",
       "4       [backyard, hotel, total, mess, happen, hotel, ...  negative\n",
       "...                                                   ...       ...\n",
       "834105                                  [good, breakfast]  positive\n",
       "834106  [helpful, staff, allowed, check, early, arrive...  positive\n",
       "834108               [breakfast, ok, got, earlier, check]  positive\n",
       "834109  [room, enormous, really, comfortable, believe,...  positive\n",
       "834110                                      [staff, kind]  positive\n",
       "\n",
       "[791439 rows x 2 columns]"
      ]
     },
     "execution_count": 10,
     "metadata": {},
     "output_type": "execute_result"
    }
   ],
   "source": [
    "data_lemmatize"
   ]
  },
  {
   "cell_type": "markdown",
   "metadata": {},
   "source": [
    "## Train the model"
   ]
  },
  {
   "cell_type": "markdown",
   "metadata": {},
   "source": [
    "### Use Gensim to convert to dictionary and prepare data for training\n",
    "1. Convert reviews to dictionary\n",
    "2. Convert the reviews dictionary into TF vectors \n",
    "3. Tag a number to the word based on each review TF vector\n",
    "4. Tag the dictionary with either positive or negative based on the data"
   ]
  },
  {
   "cell_type": "code",
   "execution_count": 11,
   "metadata": {},
   "outputs": [
    {
     "name": "stdout",
     "output_type": "stream",
     "text": [
      "0         [(0, 1), (1, 1), (2, 1), (3, 1), (4, 1), (5, 1...\n",
      "1         [(4, 1), (40, 1), (57, 1), (81, 3), (120, 1), ...\n",
      "2         [(1, 1), (17, 2), (29, 1), (39, 3), (51, 2), (...\n",
      "3         [(3, 1), (14, 3), (43, 2), (60, 1), (81, 3), (...\n",
      "4         [(51, 2), (241, 1), (242, 1), (243, 1), (244, ...\n",
      "                                ...                        \n",
      "834105                                 [(255, 1), (288, 1)]\n",
      "834106    [(3, 1), (21, 2), (98, 1), (200, 1), (434, 1),...\n",
      "834108      [(21, 1), (44, 1), (70, 1), (159, 1), (288, 1)]\n",
      "834109    [(81, 1), (151, 1), (231, 1), (320, 1), (382, ...\n",
      "834110                                 [(200, 1), (461, 1)]\n",
      "Name: reviews, Length: 791439, dtype: object\n"
     ]
    }
   ],
   "source": [
    "dictionary = corpora.Dictionary(data_stem['reviews'])\n",
    "data_stem['reviews'] = [dictionary.doc2bow(doc) for doc in data_stem['reviews']]\n",
    "\n",
    "print(data_stem['reviews'])"
   ]
  },
  {
   "cell_type": "markdown",
   "metadata": {},
   "source": [
    "### 3. TF-IDF"
   ]
  },
  {
   "cell_type": "code",
   "execution_count": 12,
   "metadata": {},
   "outputs": [],
   "source": [
    "data_stem_list = data_stem['reviews'].values.T.tolist()\n",
    "tfidf = models.TfidfModel(data_stem_list)\n",
    "data_stem_with_tfidf = [tfidf[vec] for vec in data_stem_list]"
   ]
  },
  {
   "cell_type": "code",
   "execution_count": 13,
   "metadata": {},
   "outputs": [
    {
     "name": "stdout",
     "output_type": "stream",
     "text": [
      "[[(0, 1), (1, 1), (2, 1), (3, 1), (4, 1), (5, 1), (6, 1), (7, 1), (8, 1), (9, 1), (10, 1), (11, 1), (12, 2), (13, 1), (14, 6), (15, 1), (16, 1), (17, 1), (18, 1), (19, 2), (20, 2), (21, 2), (22, 1), (23, 1), (24, 1), (25, 1), (26, 2), (27, 1), (28, 1), (29, 3), (30, 1), (31, 1), (32, 1), (33, 1), (34, 2), (35, 1), (36, 2), (37, 1), (38, 1), (39, 1), (40, 1), (41, 1), (42, 1), (43, 1), (44, 2), (45, 2), (46, 1), (47, 1), (48, 1), (49, 2), (50, 1), (51, 3), (52, 1), (53, 1), (54, 1), (55, 1), (56, 1), (57, 1), (58, 3), (59, 1), (60, 2), (61, 1), (62, 1), (63, 1), (64, 1), (65, 1), (66, 3), (67, 1), (68, 1), (69, 2), (70, 1), (71, 2), (72, 2), (73, 1), (74, 3), (75, 1), (76, 1), (77, 1), (78, 1), (79, 1), (80, 1), (81, 13), (82, 1), (83, 1), (84, 1), (85, 1), (86, 1), (87, 1), (88, 1), (89, 1), (90, 1), (91, 1), (92, 1), (93, 1), (94, 1), (95, 1), (96, 1), (97, 1), (98, 2), (99, 1), (100, 1), (101, 1), (102, 2), (103, 1), (104, 1), (105, 1), (106, 3), (107, 1), (108, 1), (109, 1), (110, 1), (111, 2), (112, 1), (113, 2), (114, 2), (115, 1), (116, 1), (117, 3), (118, 1), (119, 1)], [(4, 1), (40, 1), (57, 1), (81, 3), (120, 1), (121, 1), (122, 1), (123, 1), (124, 1), (125, 1), (126, 1), (127, 1), (128, 1), (129, 1), (130, 1), (131, 1), (132, 1), (133, 1), (134, 1), (135, 1)]]\n"
     ]
    }
   ],
   "source": [
    "print(data_stem_list[0:2])"
   ]
  },
  {
   "cell_type": "code",
   "execution_count": 14,
   "metadata": {},
   "outputs": [],
   "source": [
    "data_stem['reviews'] = [{id:1 for (id, tf_value) in vec} for vec in data_stem['reviews']]"
   ]
  },
  {
   "cell_type": "markdown",
   "metadata": {},
   "source": [
    "### Train test split the dataframe and conver into tuples (Not use)"
   ]
  },
  {
   "cell_type": "code",
   "execution_count": 15,
   "metadata": {},
   "outputs": [],
   "source": [
    "train_test_data = data_stem\n",
    "msk = np.random.rand(len(train_test_data)) < 0.8\n",
    "train = train_test_data[msk]\n",
    "test = train_test_data[~msk]\n",
    "\n",
    "tuples_train_list =list(train.itertuples(index=False, name=None))\n",
    "tuples_test_list = list(test.itertuples(index=False, name=None))"
   ]
  },
  {
   "cell_type": "code",
   "execution_count": 16,
   "metadata": {},
   "outputs": [
    {
     "name": "stdout",
     "output_type": "stream",
     "text": [
      "({46: 1, 60: 1, 67: 1, 68: 1, 199: 1, 225: 1, 260: 1}, 'negative')\n"
     ]
    }
   ],
   "source": [
    "print(tuples_test_list[1])"
   ]
  },
  {
   "cell_type": "markdown",
   "metadata": {},
   "source": [
    "### Convert dataframe into a list of tuples"
   ]
  },
  {
   "cell_type": "code",
   "execution_count": 17,
   "metadata": {},
   "outputs": [
    {
     "name": "stdout",
     "output_type": "stream",
     "text": [
      "({0: 1, 1: 1, 2: 1, 3: 1, 4: 1, 5: 1, 6: 1, 7: 1, 8: 1, 9: 1, 10: 1, 11: 1, 12: 1, 13: 1, 14: 1, 15: 1, 16: 1, 17: 1, 18: 1, 19: 1, 20: 1, 21: 1, 22: 1, 23: 1, 24: 1, 25: 1, 26: 1, 27: 1, 28: 1, 29: 1, 30: 1, 31: 1, 32: 1, 33: 1, 34: 1, 35: 1, 36: 1, 37: 1, 38: 1, 39: 1, 40: 1, 41: 1, 42: 1, 43: 1, 44: 1, 45: 1, 46: 1, 47: 1, 48: 1, 49: 1, 50: 1, 51: 1, 52: 1, 53: 1, 54: 1, 55: 1, 56: 1, 57: 1, 58: 1, 59: 1, 60: 1, 61: 1, 62: 1, 63: 1, 64: 1, 65: 1, 66: 1, 67: 1, 68: 1, 69: 1, 70: 1, 71: 1, 72: 1, 73: 1, 74: 1, 75: 1, 76: 1, 77: 1, 78: 1, 79: 1, 80: 1, 81: 1, 82: 1, 83: 1, 84: 1, 85: 1, 86: 1, 87: 1, 88: 1, 89: 1, 90: 1, 91: 1, 92: 1, 93: 1, 94: 1, 95: 1, 96: 1, 97: 1, 98: 1, 99: 1, 100: 1, 101: 1, 102: 1, 103: 1, 104: 1, 105: 1, 106: 1, 107: 1, 108: 1, 109: 1, 110: 1, 111: 1, 112: 1, 113: 1, 114: 1, 115: 1, 116: 1, 117: 1, 118: 1, 119: 1}, 'negative')\n"
     ]
    }
   ],
   "source": [
    "data = data_stem\n",
    "tuples_list = list(data.itertuples(index=False, name=None))\n",
    "print(tuples_list[0])"
   ]
  },
  {
   "cell_type": "markdown",
   "metadata": {},
   "source": [
    "### Fit the train data into nltk classifier "
   ]
  },
  {
   "cell_type": "code",
   "execution_count": 18,
   "metadata": {},
   "outputs": [
    {
     "name": "stdout",
     "output_type": "stream",
     "text": [
      "train size: 712295 test size: 79144\n",
      "Fold 1 : 0.9111998382694835\n",
      "train size: 712295 test size: 79144\n",
      "Fold 2 : 0.913625796017386\n",
      "train size: 712295 test size: 79144\n",
      "Fold 3 : 0.9122611947841909\n",
      "train size: 712295 test size: 79144\n",
      "Fold 4 : 0.9107576063883555\n",
      "train size: 712295 test size: 79144\n",
      "Fold 5 : 0.911920044475892\n",
      "train size: 712295 test size: 79144\n",
      "Fold 6 : 0.9121222076215506\n",
      "train size: 712295 test size: 79144\n",
      "Fold 7 : 0.9123749115536238\n",
      "train size: 712295 test size: 79144\n",
      "Fold 8 : 0.9137142423936117\n",
      "train size: 712295 test size: 79144\n",
      "Fold 9 : 0.9127286970585262\n",
      "train size: 712296 test size: 79143\n",
      "Fold 10 : 0.9138521410611172\n",
      "Average accuracy: 0.9124556679623737\n"
     ]
    }
   ],
   "source": [
    "random.shuffle(tuples_list)\n",
    "fold_count = 10\n",
    "kf = KFold(n_splits = fold_count)\n",
    "total = 0\n",
    "count = 1\n",
    "\n",
    "for train, test in kf.split(tuples_list):\n",
    "    train_data = np.array(tuples_list)[train]\n",
    "    test_data = np.array(tuples_list)[test]\n",
    "    print(\"train size:\", len(train_data), \"test size:\", len(test_data))\n",
    "    classifier = nltk.NaiveBayesClassifier.train(train_data)\n",
    "    print(\"Fold\", count, \":\", nltk.classify.accuracy(classifier, test_data))\n",
    "    total += nltk.classify.accuracy(classifier, test_data)\n",
    "    count+=1\n",
    "average_accuracy = total/fold_count\n",
    "print(\"Average accuracy:\", average_accuracy)"
   ]
  },
  {
   "cell_type": "markdown",
   "metadata": {},
   "source": [
    "### Confusion Matrix"
   ]
  },
  {
   "cell_type": "code",
   "execution_count": 19,
   "metadata": {},
   "outputs": [
    {
     "name": "stdout",
     "output_type": "stream",
     "text": [
      "\n",
      "Clasification report:\n",
      "               precision    recall  f1-score   support\n",
      "\n",
      "    negative       0.90      0.91      0.90     34504\n",
      "    positive       0.93      0.92      0.92     44639\n",
      "\n",
      "    accuracy                           0.91     79143\n",
      "   macro avg       0.91      0.91      0.91     79143\n",
      "weighted avg       0.91      0.91      0.91     79143\n",
      "\n",
      "\n",
      "Confussion matrix:\n",
      " [[31315  3189]\n",
      " [ 3629 41010]]\n"
     ]
    }
   ],
   "source": [
    "test_result = []\n",
    "gold_result = []\n",
    "\n",
    "for i in range(len(test_data)):\n",
    "    test_result.append(classifier.classify(test_data[i][0]))\n",
    "    gold_result.append(test_data[i][1])\n",
    "\n",
    "print('\\nClasification report:\\n', classification_report(gold_result, test_result))\n",
    "print('\\nConfussion matrix:\\n',confusion_matrix(gold_result, test_result))"
   ]
  },
  {
   "cell_type": "markdown",
   "metadata": {},
   "source": [
    "### Test with unseen input"
   ]
  },
  {
   "cell_type": "code",
   "execution_count": null,
   "metadata": {},
   "outputs": [],
   "source": [
    "test = input(\"Enter reviews :\")\n",
    "test = test.split()\n",
    "# test = test[word for word in test if word not in stop_list]\n",
    "test = dictionary.doc2bow(test)\n",
    "test = [{id:1 for (id, tf_value) in test}]\n",
    "print(test)\n",
    "print(\"Review outcome:\", classifier.classify(test[0]))"
   ]
  },
  {
   "cell_type": "code",
   "execution_count": null,
   "metadata": {},
   "outputs": [],
   "source": []
  }
 ],
 "metadata": {
  "kernelspec": {
   "display_name": "Python 3",
   "language": "python",
   "name": "python3"
  },
  "language_info": {
   "codemirror_mode": {
    "name": "ipython",
    "version": 3
   },
   "file_extension": ".py",
   "mimetype": "text/x-python",
   "name": "python",
   "nbconvert_exporter": "python",
   "pygments_lexer": "ipython3",
   "version": "3.7.4"
  }
 },
 "nbformat": 4,
 "nbformat_minor": 2
}
