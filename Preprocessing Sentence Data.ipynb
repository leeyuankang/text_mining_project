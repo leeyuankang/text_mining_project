{
 "cells": [
  {
   "cell_type": "markdown",
   "metadata": {},
   "source": [
    "## Import Statement"
   ]
  },
  {
   "cell_type": "code",
   "execution_count": 1,
   "metadata": {},
   "outputs": [],
   "source": [
    "from vaderSentiment.vaderSentiment import SentimentIntensityAnalyzer\n",
    "from nnsplit import NNSplit\n",
    "import pandas as pd \n",
    "import re"
   ]
  },
  {
   "cell_type": "markdown",
   "metadata": {},
   "source": [
    "## Load data and get all the reviews"
   ]
  },
  {
   "cell_type": "code",
   "execution_count": 2,
   "metadata": {},
   "outputs": [],
   "source": [
    "df = pd.read_csv(\"./data/RGeo_Hotel_Reviews.csv\", index_col=0)"
   ]
  },
  {
   "cell_type": "markdown",
   "metadata": {},
   "source": [
    "## Filter the columns and combine positive and negative review"
   ]
  },
  {
   "cell_type": "code",
   "execution_count": 3,
   "metadata": {},
   "outputs": [
    {
     "name": "stderr",
     "output_type": "stream",
     "text": [
      "/Users/yuankanglee/opt/anaconda3/lib/python3.7/site-packages/ipykernel_launcher.py:3: FutureWarning: Sorting because non-concatenation axis is not aligned. A future version\n",
      "of pandas will change to not sort by default.\n",
      "\n",
      "To accept the future behavior, pass 'sort=False'.\n",
      "\n",
      "To retain the current behavior and silence the warning, pass 'sort=True'.\n",
      "\n",
      "  This is separate from the ipykernel package so we can avoid doing imports until\n"
     ]
    }
   ],
   "source": [
    "df_negative_review = df[['Negative_Review', 'city', 'country']]\n",
    "df_positive_review = df[['Positive_Review', 'city', 'country']]\n",
    "df_uncleaned_reviews = pd.concat([df_negative_review, df_positive_review], ignore_index=True)"
   ]
  },
  {
   "cell_type": "code",
   "execution_count": 5,
   "metadata": {},
   "outputs": [],
   "source": [
    "df_uncleaned_reviews['Review'] = df_uncleaned_reviews['Negative_Review'].combine_first(df_uncleaned_reviews['Positive_Review'])\n",
    "df_reviews = df_uncleaned_reviews.drop(columns=['Negative_Review', 'Positive_Review'])"
   ]
  },
  {
   "cell_type": "markdown",
   "metadata": {},
   "source": [
    "## Shuffle and slice dataframe"
   ]
  },
  {
   "cell_type": "code",
   "execution_count": 6,
   "metadata": {},
   "outputs": [
    {
     "data": {
      "text/html": [
       "<div>\n",
       "<style scoped>\n",
       "    .dataframe tbody tr th:only-of-type {\n",
       "        vertical-align: middle;\n",
       "    }\n",
       "\n",
       "    .dataframe tbody tr th {\n",
       "        vertical-align: top;\n",
       "    }\n",
       "\n",
       "    .dataframe thead th {\n",
       "        text-align: right;\n",
       "    }\n",
       "</style>\n",
       "<table border=\"1\" class=\"dataframe\">\n",
       "  <thead>\n",
       "    <tr style=\"text-align: right;\">\n",
       "      <th></th>\n",
       "      <th>city</th>\n",
       "      <th>country</th>\n",
       "      <th>Review</th>\n",
       "    </tr>\n",
       "  </thead>\n",
       "  <tbody>\n",
       "    <tr>\n",
       "      <td>0</td>\n",
       "      <td>City of London</td>\n",
       "      <td>United Kingdom</td>\n",
       "      <td>The staff were amazing Always recognised us a...</td>\n",
       "    </tr>\n",
       "    <tr>\n",
       "      <td>1</td>\n",
       "      <td>Levallois-Perret</td>\n",
       "      <td>France</td>\n",
       "      <td>Bad wifi coverage in room</td>\n",
       "    </tr>\n",
       "    <tr>\n",
       "      <td>2</td>\n",
       "      <td>Lambeth</td>\n",
       "      <td>United Kingdom</td>\n",
       "      <td>Downstairs was always very busy nowhere to ha...</td>\n",
       "    </tr>\n",
       "    <tr>\n",
       "      <td>3</td>\n",
       "      <td>Kensington</td>\n",
       "      <td>United Kingdom</td>\n",
       "      <td>Excellent location next to earls court train ...</td>\n",
       "    </tr>\n",
       "    <tr>\n",
       "      <td>4</td>\n",
       "      <td>Vienna</td>\n",
       "      <td>Austria</td>\n",
       "      <td>Croissants are perfect and the breakfast in g...</td>\n",
       "    </tr>\n",
       "    <tr>\n",
       "      <td>...</td>\n",
       "      <td>...</td>\n",
       "      <td>...</td>\n",
       "      <td>...</td>\n",
       "    </tr>\n",
       "    <tr>\n",
       "      <td>19995</td>\n",
       "      <td>Clichy</td>\n",
       "      <td>France</td>\n",
       "      <td>Location and decor</td>\n",
       "    </tr>\n",
       "    <tr>\n",
       "      <td>19996</td>\n",
       "      <td>La Bordeta</td>\n",
       "      <td>Spain</td>\n",
       "      <td>only complaint really lack of electricity out...</td>\n",
       "    </tr>\n",
       "    <tr>\n",
       "      <td>19997</td>\n",
       "      <td>Barcelona</td>\n",
       "      <td>Spain</td>\n",
       "      <td>Breakfast didn t have much variety Bad smell ...</td>\n",
       "    </tr>\n",
       "    <tr>\n",
       "      <td>19998</td>\n",
       "      <td>City of London</td>\n",
       "      <td>United Kingdom</td>\n",
       "      <td>Excellent stay from start to finish Free drin...</td>\n",
       "    </tr>\n",
       "    <tr>\n",
       "      <td>19999</td>\n",
       "      <td>City of London</td>\n",
       "      <td>United Kingdom</td>\n",
       "      <td>No Negative</td>\n",
       "    </tr>\n",
       "  </tbody>\n",
       "</table>\n",
       "<p>20000 rows × 3 columns</p>\n",
       "</div>"
      ],
      "text/plain": [
       "                   city         country  \\\n",
       "0        City of London  United Kingdom   \n",
       "1      Levallois-Perret          France   \n",
       "2               Lambeth  United Kingdom   \n",
       "3            Kensington  United Kingdom   \n",
       "4                Vienna         Austria   \n",
       "...                 ...             ...   \n",
       "19995            Clichy          France   \n",
       "19996        La Bordeta           Spain   \n",
       "19997         Barcelona           Spain   \n",
       "19998    City of London  United Kingdom   \n",
       "19999    City of London  United Kingdom   \n",
       "\n",
       "                                                  Review  \n",
       "0       The staff were amazing Always recognised us a...  \n",
       "1                              Bad wifi coverage in room  \n",
       "2       Downstairs was always very busy nowhere to ha...  \n",
       "3       Excellent location next to earls court train ...  \n",
       "4       Croissants are perfect and the breakfast in g...  \n",
       "...                                                  ...  \n",
       "19995                                 Location and decor  \n",
       "19996   only complaint really lack of electricity out...  \n",
       "19997   Breakfast didn t have much variety Bad smell ...  \n",
       "19998   Excellent stay from start to finish Free drin...  \n",
       "19999                                        No Negative  \n",
       "\n",
       "[20000 rows x 3 columns]"
      ]
     },
     "execution_count": 6,
     "metadata": {},
     "output_type": "execute_result"
    }
   ],
   "source": [
    "df_reviews = df_reviews.sample(frac=1).reset_index(drop=True)\n",
    "df_reviews[0:20000]"
   ]
  },
  {
   "cell_type": "markdown",
   "metadata": {},
   "source": [
    "## Splitting reviews in to sentence using NNSplit"
   ]
  },
  {
   "cell_type": "code",
   "execution_count": null,
   "metadata": {},
   "outputs": [],
   "source": [
    "def split_review(reviews):\n",
    "    reviews = [reviews.strip()]\n",
    "    result_list = []\n",
    "    splitter = NNSplit('en')\n",
    "    results = splitter.split(reviews)\n",
    "    for result in results[0]:\n",
    "        sentence = ''\n",
    "        for token in result:\n",
    "            sentence += ' ' + token.text\n",
    "        result_list.append(sentence.strip())\n",
    "    return result_list      \n",
    "        \n",
    "df_reviews['sent_list'] = df_reviews['Review'].apply(split_review)"
   ]
  },
  {
   "cell_type": "markdown",
   "metadata": {},
   "source": [
    "## Split the list into different rows of sentences in the dataframe"
   ]
  },
  {
   "cell_type": "code",
   "execution_count": null,
   "metadata": {},
   "outputs": [],
   "source": [
    "s = df_reviews.apply(lambda x: pd.Series(x['sent_list']), axis=1).stack().reset_index(level=1, drop=True)"
   ]
  },
  {
   "cell_type": "code",
   "execution_count": null,
   "metadata": {},
   "outputs": [],
   "source": [
    "s.name = 'sent_list'\n",
    "df_reviews_sentence = df_reviews.drop('sent_list', axis=1).join(s)\n",
    "df_reviews_sentence['sent_list'] = pd.Series(df_reviews_sentence['sent_list'], dtype=object)\n",
    "df_reviews_sentence.reset_index(inplace=True)\n",
    "df_reviews_sentence.drop(columns=['index', 'Review'])"
   ]
  },
  {
   "cell_type": "markdown",
   "metadata": {},
   "source": [
    "## Filter sentence that is above length of 8"
   ]
  },
  {
   "cell_type": "code",
   "execution_count": null,
   "metadata": {},
   "outputs": [],
   "source": [
    "length = (df_reviews_sentence['sent_list'].str.len() >= 8)\n",
    "df_reviews_sentence = df_reviews_sentence.loc[length]"
   ]
  },
  {
   "cell_type": "markdown",
   "metadata": {},
   "source": [
    "## Vader to tag the sentiment"
   ]
  },
  {
   "cell_type": "code",
   "execution_count": null,
   "metadata": {},
   "outputs": [],
   "source": [
    "# This function gets the polarity of reviews using Vader # \n",
    "def get_polarity(sentence):\n",
    "    analyser = SentimentIntensityAnalyzer()\n",
    "    score = analyser.polarity_scores(sentence)\n",
    "    compound = score['compound']\n",
    "    if compound >= 0.05:\n",
    "        return ('positive')\n",
    "    elif compound > -0.05 and compound < 0.05: \n",
    "        return ('neutral')\n",
    "    else: \n",
    "        return ('negative')\n",
    "    \n",
    "df_reviews_sentiment['polarity'] = df_reviews_sentence['review'].apply(get_polarity)"
   ]
  }
 ],
 "metadata": {
  "kernelspec": {
   "display_name": "Python 3",
   "language": "python",
   "name": "python3"
  },
  "language_info": {
   "codemirror_mode": {
    "name": "ipython",
    "version": 3
   },
   "file_extension": ".py",
   "mimetype": "text/x-python",
   "name": "python",
   "nbconvert_exporter": "python",
   "pygments_lexer": "ipython3",
   "version": "3.7.4"
  }
 },
 "nbformat": 4,
 "nbformat_minor": 2
}
