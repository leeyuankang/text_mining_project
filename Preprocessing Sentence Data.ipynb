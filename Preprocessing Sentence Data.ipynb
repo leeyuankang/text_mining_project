{
 "cells": [
  {
   "cell_type": "markdown",
   "metadata": {},
   "source": [
    "## Import Statement"
   ]
  },
  {
   "cell_type": "code",
   "execution_count": 1,
   "metadata": {},
   "outputs": [],
   "source": [
    "from vaderSentiment.vaderSentiment import SentimentIntensityAnalyzer\n",
    "from nnsplit import NNSplit\n",
    "import pandas as pd \n",
    "import re"
   ]
  },
  {
   "cell_type": "markdown",
   "metadata": {},
   "source": [
    "## Load data and get all the reviews"
   ]
  },
  {
   "cell_type": "code",
   "execution_count": 2,
   "metadata": {},
   "outputs": [],
   "source": [
    "df = pd.read_csv(\"./data/RGeo_Hotel_Reviews.csv\", index_col=0)"
   ]
  },
  {
   "cell_type": "markdown",
   "metadata": {},
   "source": [
    "## Filter the columns and combine positive and negative review"
   ]
  },
  {
   "cell_type": "code",
   "execution_count": 3,
   "metadata": {},
   "outputs": [],
   "source": [
    "df_negative_review = df[['Negative_Review', 'city', 'country']]\n",
    "df_positive_review = df[['Positive_Review', 'city', 'country']]\n",
    "df_uncleaned_reviews = pd.concat([df_negative_review, df_positive_review], ignore_index=True)"
   ]
  },
  {
   "cell_type": "code",
   "execution_count": 4,
   "metadata": {},
   "outputs": [],
   "source": [
    "df_uncleaned_reviews['Review'] = df_uncleaned_reviews['Negative_Review'].combine_first(df_uncleaned_reviews['Positive_Review'])\n",
    "df_reviews = df_uncleaned_reviews.drop(columns=['Negative_Review', 'Positive_Review'])"
   ]
  },
  {
   "cell_type": "markdown",
   "metadata": {},
   "source": [
    "## Shuffle and slice dataframe"
   ]
  },
  {
   "cell_type": "code",
   "execution_count": 5,
   "metadata": {},
   "outputs": [
    {
     "data": {
      "text/html": [
       "<div>\n",
       "<style scoped>\n",
       "    .dataframe tbody tr th:only-of-type {\n",
       "        vertical-align: middle;\n",
       "    }\n",
       "\n",
       "    .dataframe tbody tr th {\n",
       "        vertical-align: top;\n",
       "    }\n",
       "\n",
       "    .dataframe thead th {\n",
       "        text-align: right;\n",
       "    }\n",
       "</style>\n",
       "<table border=\"1\" class=\"dataframe\">\n",
       "  <thead>\n",
       "    <tr style=\"text-align: right;\">\n",
       "      <th></th>\n",
       "      <th>city</th>\n",
       "      <th>country</th>\n",
       "      <th>Review</th>\n",
       "    </tr>\n",
       "  </thead>\n",
       "  <tbody>\n",
       "    <tr>\n",
       "      <th>0</th>\n",
       "      <td>el Parc i la Llacuna del Poblenou</td>\n",
       "      <td>Spain</td>\n",
       "      <td>Free room upgrade and awesome free use of the...</td>\n",
       "    </tr>\n",
       "    <tr>\n",
       "      <th>1</th>\n",
       "      <td>Wembley</td>\n",
       "      <td>United Kingdom</td>\n",
       "      <td>The best hotel I been here in England</td>\n",
       "    </tr>\n",
       "    <tr>\n",
       "      <th>2</th>\n",
       "      <td>Wembley</td>\n",
       "      <td>United Kingdom</td>\n",
       "      <td>breakfast</td>\n",
       "    </tr>\n",
       "    <tr>\n",
       "      <th>3</th>\n",
       "      <td>Blackheath</td>\n",
       "      <td>United Kingdom</td>\n",
       "      <td>Good location of the hotel for all visits in ...</td>\n",
       "    </tr>\n",
       "    <tr>\n",
       "      <th>4</th>\n",
       "      <td>Milan</td>\n",
       "      <td>Italy</td>\n",
       "      <td>No Negative</td>\n",
       "    </tr>\n",
       "    <tr>\n",
       "      <th>...</th>\n",
       "      <td>...</td>\n",
       "      <td>...</td>\n",
       "      <td>...</td>\n",
       "    </tr>\n",
       "    <tr>\n",
       "      <th>19995</th>\n",
       "      <td>Barri Gòtic</td>\n",
       "      <td>Spain</td>\n",
       "      <td>Bed not overly comfy and a lot of noise at ti...</td>\n",
       "    </tr>\n",
       "    <tr>\n",
       "      <th>19996</th>\n",
       "      <td>Bayswater</td>\n",
       "      <td>United Kingdom</td>\n",
       "      <td>No Negative</td>\n",
       "    </tr>\n",
       "    <tr>\n",
       "      <th>19997</th>\n",
       "      <td>Barnsbury</td>\n",
       "      <td>United Kingdom</td>\n",
       "      <td>The ambience and the staff and the proximity ...</td>\n",
       "    </tr>\n",
       "    <tr>\n",
       "      <th>19998</th>\n",
       "      <td>West End of London</td>\n",
       "      <td>United Kingdom</td>\n",
       "      <td>Really bad services not feeling safe and bags...</td>\n",
       "    </tr>\n",
       "    <tr>\n",
       "      <th>19999</th>\n",
       "      <td>Clerkenwell</td>\n",
       "      <td>United Kingdom</td>\n",
       "      <td>The bathroom door was difficult to open close</td>\n",
       "    </tr>\n",
       "  </tbody>\n",
       "</table>\n",
       "<p>20000 rows × 3 columns</p>\n",
       "</div>"
      ],
      "text/plain": [
       "                                    city         country  \\\n",
       "0      el Parc i la Llacuna del Poblenou           Spain   \n",
       "1                                Wembley  United Kingdom   \n",
       "2                                Wembley  United Kingdom   \n",
       "3                             Blackheath  United Kingdom   \n",
       "4                                  Milan           Italy   \n",
       "...                                  ...             ...   \n",
       "19995                        Barri Gòtic           Spain   \n",
       "19996                          Bayswater  United Kingdom   \n",
       "19997                          Barnsbury  United Kingdom   \n",
       "19998                 West End of London  United Kingdom   \n",
       "19999                        Clerkenwell  United Kingdom   \n",
       "\n",
       "                                                  Review  \n",
       "0       Free room upgrade and awesome free use of the...  \n",
       "1                  The best hotel I been here in England  \n",
       "2                                              breakfast  \n",
       "3       Good location of the hotel for all visits in ...  \n",
       "4                                            No Negative  \n",
       "...                                                  ...  \n",
       "19995   Bed not overly comfy and a lot of noise at ti...  \n",
       "19996                                        No Negative  \n",
       "19997   The ambience and the staff and the proximity ...  \n",
       "19998   Really bad services not feeling safe and bags...  \n",
       "19999      The bathroom door was difficult to open close  \n",
       "\n",
       "[20000 rows x 3 columns]"
      ]
     },
     "execution_count": 5,
     "metadata": {},
     "output_type": "execute_result"
    }
   ],
   "source": [
    "df_reviews = df_reviews.sample(frac=1).reset_index(drop=True)\n",
    "df_reviews[0:20000]"
   ]
  },
  {
   "cell_type": "markdown",
   "metadata": {},
   "source": [
    "## Splitting reviews in to sentence using NNSplit"
   ]
  },
  {
   "cell_type": "code",
   "execution_count": null,
   "metadata": {},
   "outputs": [],
   "source": [
    "def split_review(reviews):\n",
    "    reviews = [reviews.strip()]\n",
    "    result_list = []\n",
    "    splitter = NNSplit('en')\n",
    "    results = splitter.split(reviews)\n",
    "    for result in results[0]:\n",
    "        sentence = ''\n",
    "        for token in result:\n",
    "            sentence += ' ' + token.text\n",
    "        result_list.append(sentence.strip())\n",
    "    return result_list      \n",
    "        \n",
    "df_reviews['sent_list'] = df_reviews['Review'].apply(split_review)"
   ]
  },
  {
   "cell_type": "markdown",
   "metadata": {},
   "source": [
    "## Split the list into different rows of sentences in the dataframe"
   ]
  },
  {
   "cell_type": "code",
   "execution_count": null,
   "metadata": {},
   "outputs": [],
   "source": [
    "s = df_reviews.apply(lambda x: pd.Series(x['sent_list']), axis=1).stack().reset_index(level=1, drop=True)"
   ]
  },
  {
   "cell_type": "code",
   "execution_count": null,
   "metadata": {},
   "outputs": [],
   "source": [
    "s.name = 'sent_list'\n",
    "df_reviews_sentence = df_reviews.drop('sent_list', axis=1).join(s)\n",
    "df_reviews_sentence['sent_list'] = pd.Series(df_reviews_sentence['sent_list'], dtype=object)\n",
    "df_reviews_sentence.reset_index(inplace=True)\n",
    "df_reviews_sentence.drop(columns=['index', 'Review'])"
   ]
  },
  {
   "cell_type": "markdown",
   "metadata": {},
   "source": [
    "## Filter sentence that is above length of 8"
   ]
  },
  {
   "cell_type": "code",
   "execution_count": null,
   "metadata": {},
   "outputs": [],
   "source": [
    "length = (df_reviews_sentence['sent_list'].str.len() >= 8)\n",
    "df_reviews_sentence = df_reviews_sentence.loc[length]"
   ]
  },
  {
   "cell_type": "markdown",
   "metadata": {},
   "source": [
    "## Vader to tag the sentiment"
   ]
  },
  {
   "cell_type": "code",
   "execution_count": null,
   "metadata": {},
   "outputs": [],
   "source": [
    "# This function gets the polarity of reviews using Vader # \n",
    "def get_polarity(sentence):\n",
    "    analyser = SentimentIntensityAnalyzer()\n",
    "    score = analyser.polarity_scores(sentence)\n",
    "    compound = score['compound']\n",
    "    if compound >= 0.05:\n",
    "        return ('positive')\n",
    "    elif compound > -0.05 and compound < 0.05: \n",
    "        return ('neutral')\n",
    "    else: \n",
    "        return ('negative')\n",
    "    \n",
    "df_reviews_sentiment['polarity'] = df_reviews_sentence['review'].apply(get_polarity)"
   ]
  }
 ],
 "metadata": {
  "kernelspec": {
   "display_name": "Python 3",
   "language": "python",
   "name": "python3"
  },
  "language_info": {
   "codemirror_mode": {
    "name": "ipython",
    "version": 3
   },
   "file_extension": ".py",
   "mimetype": "text/x-python",
   "name": "python",
   "nbconvert_exporter": "python",
   "pygments_lexer": "ipython3",
   "version": "3.7.6"
  }
 },
 "nbformat": 4,
 "nbformat_minor": 2
}
