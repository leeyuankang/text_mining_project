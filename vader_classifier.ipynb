{
 "cells": [
  {
   "cell_type": "markdown",
   "metadata": {},
   "source": [
    "# Sentiment Tagging with Vader"
   ]
  },
  {
   "cell_type": "code",
   "execution_count": 39,
   "metadata": {},
   "outputs": [],
   "source": [
    "from vaderSentiment.vaderSentiment import SentimentIntensityAnalyzer\n",
    "from nnsplit import NNSplit\n",
    "from nltk.corpus import stopwords\n",
    "import re\n",
    "import pandas as pd"
   ]
  },
  {
   "cell_type": "markdown",
   "metadata": {},
   "source": [
    "## Input unseen data"
   ]
  },
  {
   "cell_type": "markdown",
   "metadata": {},
   "source": [
    "### New review"
   ]
  },
  {
   "cell_type": "code",
   "execution_count": 10,
   "metadata": {},
   "outputs": [],
   "source": [
    "new_review = \"My room was dirty and I was afraid to walk barefoot on the floor which looked as if it was not cleaned in weeks White furniture which looked nice in pictures was dirty too and the door looked like it was attacked by an angry dog My shower drain was clogged and the staff did not respond to my request to clean it On a day with heavy rainfall a pretty common occurrence in Amsterdam the roof in my room was leaking luckily not on the bed you could also see signs of earlier water damage I also saw insects running on the floor Overall the second floor of the property looked dirty and badly kept On top of all of this a repairman who came to fix something in a room next door at midnight was very noisy as were many of the guests I understand the challenges of running a hotel in an old building but this negligence is inconsistent with prices demanded by the hotel On the last night after I complained about water damage the night shift manager offered to move me to a different room but that offer came pretty late around midnight when I was already in bed and ready to sleep\""
   ]
  },
  {
   "cell_type": "markdown",
   "metadata": {},
   "source": [
    "### Split into sentence using NNSplit"
   ]
  },
  {
   "cell_type": "code",
   "execution_count": 11,
   "metadata": {},
   "outputs": [
    {
     "data": {
      "text/plain": [
       "['My room was dirty and I was afraid to walk barefoot on the floor which looked as if it was not cleaned in weeks ',\n",
       " 'White furniture which looked nice in pictures was dirty too and the door looked like ',\n",
       " 'it was attacked by an angry dog ',\n",
       " 'My shower drain was clogged and the staff did not respond to my request to clean it ',\n",
       " 'On a day with heavy rainfall a pretty common occurrence in Amsterdam ',\n",
       " 'the roof in my room was leaking luckily not on the bed ',\n",
       " 'you could also see signs of earlier water damage ',\n",
       " 'I also saw insects running on the floor ',\n",
       " 'Overall the second floor of the property looked dirty and badly kept ',\n",
       " 'On top of all of this a repairman who came to fix something in a room next door at midnight was very noisy as were many of the guests ',\n",
       " 'I understand the challenges of running a hotel in an old building ',\n",
       " 'but this negligence is inconsistent with prices demanded by the hotel ',\n",
       " 'On the last night after I complained about water damage ',\n",
       " 'the night shift manager offered to move me to a different room but that offer came pretty late around midnight when I was already in bed and ready to sleep ']"
      ]
     },
     "execution_count": 11,
     "metadata": {},
     "output_type": "execute_result"
    }
   ],
   "source": [
    "sent_list = []\n",
    "splitter = NNSplit(\"en\")\n",
    "\n",
    "sent = splitter.split([new_review])\n",
    "for i in sent[0]:\n",
    "    new_string = ''\n",
    "    for j in i:\n",
    "        new_string += j.text + \" \"\n",
    "    sent_list.append(new_string)\n",
    "    \n",
    "sent_list"
   ]
  },
  {
   "cell_type": "markdown",
   "metadata": {},
   "source": [
    "### Data Cleaning"
   ]
  },
  {
   "cell_type": "markdown",
   "metadata": {},
   "source": [
    "#### Convert all words to lower"
   ]
  },
  {
   "cell_type": "code",
   "execution_count": 37,
   "metadata": {},
   "outputs": [
    {
     "data": {
      "text/plain": [
       "['my room was dirty and i was afraid to walk barefoot on the floor which looked as if it was not cleaned in weeks ',\n",
       " 'white furniture which looked nice in pictures was dirty too and the door looked like ',\n",
       " 'it was attacked by an angry dog ',\n",
       " 'my shower drain was clogged and the staff did not respond to my request to clean it ',\n",
       " 'on a day with heavy rainfall a pretty common occurrence in amsterdam ',\n",
       " 'the roof in my room was leaking luckily not on the bed ',\n",
       " 'you could also see signs of earlier water damage ',\n",
       " 'i also saw insects running on the floor ',\n",
       " 'overall the second floor of the property looked dirty and badly kept ',\n",
       " 'on top of all of this a repairman who came to fix something in a room next door at midnight was very noisy as were many of the guests ',\n",
       " 'i understand the challenges of running a hotel in an old building ',\n",
       " 'but this negligence is inconsistent with prices demanded by the hotel ',\n",
       " 'on the last night after i complained about water damage ',\n",
       " 'the night shift manager offered to move me to a different room but that offer came pretty late around midnight when i was already in bed and ready to sleep ']"
      ]
     },
     "execution_count": 37,
     "metadata": {},
     "output_type": "execute_result"
    }
   ],
   "source": [
    "sent_list_lower = [sent.lower() for sent in sent_list]\n",
    "sent_list_lower"
   ]
  },
  {
   "cell_type": "code",
   "execution_count": 43,
   "metadata": {},
   "outputs": [
    {
     "name": "stdout",
     "output_type": "stream",
     "text": [
      "my room was dirty and i was afraid to walk barefoot on the floor which looked as if it was not cleaned in weeks \n",
      "white furniture which looked nice in pictures was dirty too and the door looked like \n",
      "it was attacked by an angry dog \n",
      "my shower drain was clogged and the staff did not respond to my request to clean it \n",
      "on a day with heavy rainfall a pretty common occurrence in amsterdam \n",
      "the roof in my room was leaking luckily not on the bed \n",
      "you could also see signs of earlier water damage \n",
      "i also saw insects running on the floor \n",
      "overall the second floor of the property looked dirty and badly kept \n",
      "on top of all of this a repairman who came to fix something in a room next door at midnight was very noisy as were many of the guests \n",
      "i understand the challenges of running a hotel in an old building \n",
      "but this negligence is inconsistent with prices demanded by the hotel \n",
      "on the last night after i complained about water damage \n",
      "the night shift manager offered to move me to a different room but that offer came pretty late around midnight when i was already in bed and ready to sleep \n"
     ]
    }
   ],
   "source": [
    "for sent in sent_list_lower:\n",
    "    print(sent)"
   ]
  },
  {
   "cell_type": "markdown",
   "metadata": {},
   "source": [
    "#### Remove Stopwords"
   ]
  },
  {
   "cell_type": "code",
   "execution_count": 53,
   "metadata": {},
   "outputs": [
    {
     "name": "stdout",
     "output_type": "stream",
     "text": [
      "['room dirty afraid walk barefoot floor looked cleaned weeks', 'white furniture looked nice pictures dirty door looked like', 'attacked angry dog', 'shower drain clogged staff respond request clean', 'day heavy rainfall pretty common occurrence amsterdam', 'roof room leaking luckily bed', 'could also see signs earlier water damage', 'also saw insects running floor', 'overall second floor property looked dirty badly kept', 'top repairman came fix something room next door midnight noisy many guests', 'understand challenges running hotel old building', 'negligence inconsistent prices demanded hotel', 'last night complained water damage', 'night shift manager offered move different room offer came pretty late around midnight already bed ready sleep']\n"
     ]
    }
   ],
   "source": [
    "stop_list = stopwords.words('english')\n",
    "sent_list_lower_no_stopword_list = [[word for word in sent.split() if not word in stop_list] for sent in sent_list_lower]\n",
    "sent_list_lower_no_stopword = []\n",
    "for sent in sent_list_lower_no_stopword_list:\n",
    "    new_sent = ' '.join(sent)\n",
    "    sent_list_lower_no_stopword.append(new_sent)\n",
    "print(sent_list_lower_no_stopword)"
   ]
  },
  {
   "cell_type": "markdown",
   "metadata": {},
   "source": [
    "### Convert list to dataframe"
   ]
  },
  {
   "cell_type": "code",
   "execution_count": 54,
   "metadata": {},
   "outputs": [
    {
     "data": {
      "text/html": [
       "<div>\n",
       "<style scoped>\n",
       "    .dataframe tbody tr th:only-of-type {\n",
       "        vertical-align: middle;\n",
       "    }\n",
       "\n",
       "    .dataframe tbody tr th {\n",
       "        vertical-align: top;\n",
       "    }\n",
       "\n",
       "    .dataframe thead th {\n",
       "        text-align: right;\n",
       "    }\n",
       "</style>\n",
       "<table border=\"1\" class=\"dataframe\">\n",
       "  <thead>\n",
       "    <tr style=\"text-align: right;\">\n",
       "      <th></th>\n",
       "      <th>sentence</th>\n",
       "    </tr>\n",
       "  </thead>\n",
       "  <tbody>\n",
       "    <tr>\n",
       "      <th>0</th>\n",
       "      <td>room dirty afraid walk barefoot floor looked cleaned weeks</td>\n",
       "    </tr>\n",
       "    <tr>\n",
       "      <th>1</th>\n",
       "      <td>white furniture looked nice pictures dirty door looked like</td>\n",
       "    </tr>\n",
       "    <tr>\n",
       "      <th>2</th>\n",
       "      <td>attacked angry dog</td>\n",
       "    </tr>\n",
       "    <tr>\n",
       "      <th>3</th>\n",
       "      <td>shower drain clogged staff respond request clean</td>\n",
       "    </tr>\n",
       "    <tr>\n",
       "      <th>4</th>\n",
       "      <td>day heavy rainfall pretty common occurrence amsterdam</td>\n",
       "    </tr>\n",
       "    <tr>\n",
       "      <th>5</th>\n",
       "      <td>roof room leaking luckily bed</td>\n",
       "    </tr>\n",
       "    <tr>\n",
       "      <th>6</th>\n",
       "      <td>could also see signs earlier water damage</td>\n",
       "    </tr>\n",
       "    <tr>\n",
       "      <th>7</th>\n",
       "      <td>also saw insects running floor</td>\n",
       "    </tr>\n",
       "    <tr>\n",
       "      <th>8</th>\n",
       "      <td>overall second floor property looked dirty badly kept</td>\n",
       "    </tr>\n",
       "    <tr>\n",
       "      <th>9</th>\n",
       "      <td>top repairman came fix something room next door midnight noisy many guests</td>\n",
       "    </tr>\n",
       "    <tr>\n",
       "      <th>10</th>\n",
       "      <td>understand challenges running hotel old building</td>\n",
       "    </tr>\n",
       "    <tr>\n",
       "      <th>11</th>\n",
       "      <td>negligence inconsistent prices demanded hotel</td>\n",
       "    </tr>\n",
       "    <tr>\n",
       "      <th>12</th>\n",
       "      <td>last night complained water damage</td>\n",
       "    </tr>\n",
       "    <tr>\n",
       "      <th>13</th>\n",
       "      <td>night shift manager offered move different room offer came pretty late around midnight already bed ready sleep</td>\n",
       "    </tr>\n",
       "  </tbody>\n",
       "</table>\n",
       "</div>"
      ],
      "text/plain": [
       "                                                                                                          sentence\n",
       "0   room dirty afraid walk barefoot floor looked cleaned weeks                                                    \n",
       "1   white furniture looked nice pictures dirty door looked like                                                   \n",
       "2   attacked angry dog                                                                                            \n",
       "3   shower drain clogged staff respond request clean                                                              \n",
       "4   day heavy rainfall pretty common occurrence amsterdam                                                         \n",
       "5   roof room leaking luckily bed                                                                                 \n",
       "6   could also see signs earlier water damage                                                                     \n",
       "7   also saw insects running floor                                                                                \n",
       "8   overall second floor property looked dirty badly kept                                                         \n",
       "9   top repairman came fix something room next door midnight noisy many guests                                    \n",
       "10  understand challenges running hotel old building                                                              \n",
       "11  negligence inconsistent prices demanded hotel                                                                 \n",
       "12  last night complained water damage                                                                            \n",
       "13  night shift manager offered move different room offer came pretty late around midnight already bed ready sleep"
      ]
     },
     "execution_count": 54,
     "metadata": {},
     "output_type": "execute_result"
    }
   ],
   "source": [
    "data = pd.DataFrame(sent_list_lower_no_stopword, columns=[\"sentence\"])\n",
    "data"
   ]
  },
  {
   "cell_type": "markdown",
   "metadata": {},
   "source": [
    "### Get polarity"
   ]
  },
  {
   "cell_type": "code",
   "execution_count": 55,
   "metadata": {},
   "outputs": [
    {
     "data": {
      "text/html": [
       "<div>\n",
       "<style scoped>\n",
       "    .dataframe tbody tr th:only-of-type {\n",
       "        vertical-align: middle;\n",
       "    }\n",
       "\n",
       "    .dataframe tbody tr th {\n",
       "        vertical-align: top;\n",
       "    }\n",
       "\n",
       "    .dataframe thead th {\n",
       "        text-align: right;\n",
       "    }\n",
       "</style>\n",
       "<table border=\"1\" class=\"dataframe\">\n",
       "  <thead>\n",
       "    <tr style=\"text-align: right;\">\n",
       "      <th></th>\n",
       "      <th>sentence</th>\n",
       "      <th>polarity</th>\n",
       "    </tr>\n",
       "  </thead>\n",
       "  <tbody>\n",
       "    <tr>\n",
       "      <th>0</th>\n",
       "      <td>room dirty afraid walk barefoot floor looked cleaned weeks</td>\n",
       "      <td>-0.4404</td>\n",
       "    </tr>\n",
       "    <tr>\n",
       "      <th>1</th>\n",
       "      <td>white furniture looked nice pictures dirty door looked like</td>\n",
       "      <td>0.3400</td>\n",
       "    </tr>\n",
       "    <tr>\n",
       "      <th>2</th>\n",
       "      <td>attacked angry dog</td>\n",
       "      <td>-0.7430</td>\n",
       "    </tr>\n",
       "    <tr>\n",
       "      <th>3</th>\n",
       "      <td>shower drain clogged staff respond request clean</td>\n",
       "      <td>0.4019</td>\n",
       "    </tr>\n",
       "    <tr>\n",
       "      <th>4</th>\n",
       "      <td>day heavy rainfall pretty common occurrence amsterdam</td>\n",
       "      <td>0.4939</td>\n",
       "    </tr>\n",
       "    <tr>\n",
       "      <th>5</th>\n",
       "      <td>roof room leaking luckily bed</td>\n",
       "      <td>0.5106</td>\n",
       "    </tr>\n",
       "    <tr>\n",
       "      <th>6</th>\n",
       "      <td>could also see signs earlier water damage</td>\n",
       "      <td>-0.4939</td>\n",
       "    </tr>\n",
       "    <tr>\n",
       "      <th>7</th>\n",
       "      <td>also saw insects running floor</td>\n",
       "      <td>0.0000</td>\n",
       "    </tr>\n",
       "    <tr>\n",
       "      <th>8</th>\n",
       "      <td>overall second floor property looked dirty badly kept</td>\n",
       "      <td>-0.7184</td>\n",
       "    </tr>\n",
       "    <tr>\n",
       "      <th>9</th>\n",
       "      <td>top repairman came fix something room next door midnight noisy many guests</td>\n",
       "      <td>0.0258</td>\n",
       "    </tr>\n",
       "    <tr>\n",
       "      <th>10</th>\n",
       "      <td>understand challenges running hotel old building</td>\n",
       "      <td>0.0772</td>\n",
       "    </tr>\n",
       "    <tr>\n",
       "      <th>11</th>\n",
       "      <td>negligence inconsistent prices demanded hotel</td>\n",
       "      <td>-0.2263</td>\n",
       "    </tr>\n",
       "    <tr>\n",
       "      <th>12</th>\n",
       "      <td>last night complained water damage</td>\n",
       "      <td>-0.7096</td>\n",
       "    </tr>\n",
       "    <tr>\n",
       "      <th>13</th>\n",
       "      <td>night shift manager offered move different room offer came pretty late around midnight already bed ready sleep</td>\n",
       "      <td>0.6908</td>\n",
       "    </tr>\n",
       "  </tbody>\n",
       "</table>\n",
       "</div>"
      ],
      "text/plain": [
       "                                                                                                          sentence  \\\n",
       "0   room dirty afraid walk barefoot floor looked cleaned weeks                                                       \n",
       "1   white furniture looked nice pictures dirty door looked like                                                      \n",
       "2   attacked angry dog                                                                                               \n",
       "3   shower drain clogged staff respond request clean                                                                 \n",
       "4   day heavy rainfall pretty common occurrence amsterdam                                                            \n",
       "5   roof room leaking luckily bed                                                                                    \n",
       "6   could also see signs earlier water damage                                                                        \n",
       "7   also saw insects running floor                                                                                   \n",
       "8   overall second floor property looked dirty badly kept                                                            \n",
       "9   top repairman came fix something room next door midnight noisy many guests                                       \n",
       "10  understand challenges running hotel old building                                                                 \n",
       "11  negligence inconsistent prices demanded hotel                                                                    \n",
       "12  last night complained water damage                                                                               \n",
       "13  night shift manager offered move different room offer came pretty late around midnight already bed ready sleep   \n",
       "\n",
       "    polarity  \n",
       "0  -0.4404    \n",
       "1   0.3400    \n",
       "2  -0.7430    \n",
       "3   0.4019    \n",
       "4   0.4939    \n",
       "5   0.5106    \n",
       "6  -0.4939    \n",
       "7   0.0000    \n",
       "8  -0.7184    \n",
       "9   0.0258    \n",
       "10  0.0772    \n",
       "11 -0.2263    \n",
       "12 -0.7096    \n",
       "13  0.6908    "
      ]
     },
     "execution_count": 55,
     "metadata": {},
     "output_type": "execute_result"
    }
   ],
   "source": [
    "# This function gets the polarity of reviews using Vader # \n",
    "def get_polarity(sentence):\n",
    "    analyser = SentimentIntensityAnalyzer()\n",
    "    score = analyser.polarity_scores(sentence)\n",
    "    compound = score['compound']\n",
    "    return compound\n",
    "\n",
    "data['polarity'] = data['sentence'].apply(get_polarity)\n",
    "data"
   ]
  },
  {
   "cell_type": "markdown",
   "metadata": {},
   "source": [
    "### Filter sentence above 8 words"
   ]
  },
  {
   "cell_type": "code",
   "execution_count": 56,
   "metadata": {},
   "outputs": [
    {
     "data": {
      "text/html": [
       "<div>\n",
       "<style scoped>\n",
       "    .dataframe tbody tr th:only-of-type {\n",
       "        vertical-align: middle;\n",
       "    }\n",
       "\n",
       "    .dataframe tbody tr th {\n",
       "        vertical-align: top;\n",
       "    }\n",
       "\n",
       "    .dataframe thead th {\n",
       "        text-align: right;\n",
       "    }\n",
       "</style>\n",
       "<table border=\"1\" class=\"dataframe\">\n",
       "  <thead>\n",
       "    <tr style=\"text-align: right;\">\n",
       "      <th></th>\n",
       "      <th>sentence</th>\n",
       "      <th>polarity</th>\n",
       "    </tr>\n",
       "  </thead>\n",
       "  <tbody>\n",
       "    <tr>\n",
       "      <th>0</th>\n",
       "      <td>room dirty afraid walk barefoot floor looked cleaned weeks</td>\n",
       "      <td>-0.4404</td>\n",
       "    </tr>\n",
       "    <tr>\n",
       "      <th>1</th>\n",
       "      <td>white furniture looked nice pictures dirty door looked like</td>\n",
       "      <td>0.3400</td>\n",
       "    </tr>\n",
       "    <tr>\n",
       "      <th>8</th>\n",
       "      <td>overall second floor property looked dirty badly kept</td>\n",
       "      <td>-0.7184</td>\n",
       "    </tr>\n",
       "    <tr>\n",
       "      <th>9</th>\n",
       "      <td>top repairman came fix something room next door midnight noisy many guests</td>\n",
       "      <td>0.0258</td>\n",
       "    </tr>\n",
       "    <tr>\n",
       "      <th>13</th>\n",
       "      <td>night shift manager offered move different room offer came pretty late around midnight already bed ready sleep</td>\n",
       "      <td>0.6908</td>\n",
       "    </tr>\n",
       "  </tbody>\n",
       "</table>\n",
       "</div>"
      ],
      "text/plain": [
       "                                                                                                          sentence  \\\n",
       "0   room dirty afraid walk barefoot floor looked cleaned weeks                                                       \n",
       "1   white furniture looked nice pictures dirty door looked like                                                      \n",
       "8   overall second floor property looked dirty badly kept                                                            \n",
       "9   top repairman came fix something room next door midnight noisy many guests                                       \n",
       "13  night shift manager offered move different room offer came pretty late around midnight already bed ready sleep   \n",
       "\n",
       "    polarity  \n",
       "0  -0.4404    \n",
       "1   0.3400    \n",
       "8  -0.7184    \n",
       "9   0.0258    \n",
       "13  0.6908    "
      ]
     },
     "execution_count": 56,
     "metadata": {},
     "output_type": "execute_result"
    }
   ],
   "source": [
    "def number_words(sentence):\n",
    "    return len(re.findall(r'\\w+', str(sentence)))\n",
    "\n",
    "length = (data['sentence'].apply(number_words) >= 8)\n",
    "\n",
    "data = data.loc[length]\n",
    "data"
   ]
  },
  {
   "cell_type": "markdown",
   "metadata": {},
   "source": [
    "### Aggregated polarity score"
   ]
  },
  {
   "cell_type": "code",
   "execution_count": 59,
   "metadata": {},
   "outputs": [
    {
     "name": "stdout",
     "output_type": "stream",
     "text": [
      "('neutral', -0.020439999999999993)\n"
     ]
    }
   ],
   "source": [
    "polarity = data['polarity'].mean()\n",
    "if polarity >= 0.05:\n",
    "    sentiment = ('positive', polarity)\n",
    "elif polarity > -0.05 and polarity < 0.05: \n",
    "    sentiment = ('neutral', polarity)\n",
    "else: \n",
    "    sentiment = ('negative', polarity)\n",
    "print(sentiment)"
   ]
  },
  {
   "cell_type": "markdown",
   "metadata": {},
   "source": [
    "## Not valid beyond this point"
   ]
  },
  {
   "cell_type": "code",
   "execution_count": null,
   "metadata": {},
   "outputs": [],
   "source": [
    "data = pd.read_csv(\"./data/sentence_data.csv\")\n",
    "data"
   ]
  },
  {
   "cell_type": "code",
   "execution_count": null,
   "metadata": {},
   "outputs": [],
   "source": [
    "data.columns = ['city', 'country', 'reviews', 'sentence']\n",
    "data = data[0:100000]"
   ]
  },
  {
   "cell_type": "markdown",
   "metadata": {},
   "source": [
    "## Get Vader polarity score"
   ]
  },
  {
   "cell_type": "code",
   "execution_count": null,
   "metadata": {},
   "outputs": [],
   "source": [
    "# This function gets the polarity of reviews using Vader # \n",
    "def get_polarity(sentence):\n",
    "    analyser = SentimentIntensityAnalyzer()\n",
    "    score = analyser.polarity_scores(sentence)\n",
    "    compound = score['compound']\n",
    "    return compound\n",
    "    \n",
    "data['polarity'] = data['sentence'].apply(get_polarity)\n",
    "data"
   ]
  },
  {
   "cell_type": "code",
   "execution_count": null,
   "metadata": {},
   "outputs": [],
   "source": [
    "def number_words(sentence):\n",
    "    return len(re.findall(r'\\w+', str(sentence)))\n",
    "\n",
    "length = (data['sentence'].apply(number_words) > 1)\n",
    "data = data.loc[length]"
   ]
  },
  {
   "cell_type": "markdown",
   "metadata": {},
   "source": [
    "## Aggregate the polarity by grouping sentence by reviews"
   ]
  },
  {
   "cell_type": "code",
   "execution_count": null,
   "metadata": {},
   "outputs": [],
   "source": [
    "data['agg_polarity'] = data.groupby('reviews')['polarity'].transform('mean')"
   ]
  },
  {
   "cell_type": "code",
   "execution_count": null,
   "metadata": {},
   "outputs": [],
   "source": [
    "# data = data.drop_duplicates(subset=\"reviews\", keep=\"first\")\n",
    "# data = data.drop(['sentence','polarity'], axis=1)"
   ]
  },
  {
   "cell_type": "code",
   "execution_count": null,
   "metadata": {},
   "outputs": [],
   "source": [
    "data[\"review_sentiment\"] = [\"positive\" if x>=0.196725 else (\"neutral\" if x>=0.096725 else \"negative\") for x in data['agg_polarity']]\n",
    "data"
   ]
  },
  {
   "cell_type": "code",
   "execution_count": null,
   "metadata": {},
   "outputs": [],
   "source": [
    "data[\"sen_sentiment\"] = [\"positive\" if x>=0.1779 else (\"neutral\" if x>=0.01779 else \"negative\") for x in data['polarity']]\n",
    "data"
   ]
  },
  {
   "cell_type": "markdown",
   "metadata": {},
   "source": [
    "## Export "
   ]
  },
  {
   "cell_type": "code",
   "execution_count": null,
   "metadata": {},
   "outputs": [],
   "source": [
    "data.to_csv('./data/tagged_sentence_data.csv', index=False)"
   ]
  },
  {
   "cell_type": "markdown",
   "metadata": {},
   "source": [
    "## Setting to run to see all dataframe row"
   ]
  },
  {
   "cell_type": "code",
   "execution_count": null,
   "metadata": {},
   "outputs": [],
   "source": [
    "# view_data = data.loc[:, \"sentence\":\"sentiment\"]\n",
    "data.sort_values(by=['agg_polarity'], axis=0, inplace=True,ascending=False)\n",
    "\n",
    "pd.set_option('display.max_rows',None)\n",
    "pd.set_option('display.width', None)\n",
    "pd.set_option('display.max_colwidth', -1)\n",
    "data\n",
    "# Threshold: if polarity <= 0.1779: Negative"
   ]
  },
  {
   "cell_type": "code",
   "execution_count": 9,
   "metadata": {},
   "outputs": [
    {
     "name": "stderr",
     "output_type": "stream",
     "text": [
      "/Users/yuankanglee/opt/anaconda3/lib/python3.7/site-packages/ipykernel_launcher.py:3: FutureWarning: Passing a negative integer is deprecated in version 1.0 and will not be supported in future version. Instead, use None to not limit the column width.\n",
      "  This is separate from the ipykernel package so we can avoid doing imports until\n"
     ]
    }
   ],
   "source": [
    "pd.set_option('display.max_rows',None)\n",
    "pd.set_option('display.width', None)\n",
    "pd.set_option('display.max_colwidth', -1)"
   ]
  },
  {
   "cell_type": "code",
   "execution_count": null,
   "metadata": {},
   "outputs": [],
   "source": []
  }
 ],
 "metadata": {
  "kernelspec": {
   "display_name": "Python 3",
   "language": "python",
   "name": "python3"
  },
  "language_info": {
   "codemirror_mode": {
    "name": "ipython",
    "version": 3
   },
   "file_extension": ".py",
   "mimetype": "text/x-python",
   "name": "python",
   "nbconvert_exporter": "python",
   "pygments_lexer": "ipython3",
   "version": "3.7.6"
  }
 },
 "nbformat": 4,
 "nbformat_minor": 4
}
