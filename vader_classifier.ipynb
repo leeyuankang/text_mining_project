{
 "cells": [
  {
   "cell_type": "markdown",
   "metadata": {},
   "source": [
    "# Sentiment Tagging with Vader"
   ]
  },
  {
   "cell_type": "code",
   "execution_count": 39,
   "metadata": {},
   "outputs": [],
   "source": [
    "from vaderSentiment.vaderSentiment import SentimentIntensityAnalyzer\n",
    "from nnsplit import NNSplit\n",
    "from nltk.corpus import stopwords\n",
    "import re\n",
    "import pandas as pd"
   ]
  },
  {
   "cell_type": "markdown",
   "metadata": {},
   "source": [
    "## Input unseen data"
   ]
  },
  {
   "cell_type": "markdown",
   "metadata": {},
   "source": [
    "### New review"
   ]
  },
  {
   "cell_type": "code",
   "execution_count": 69,
   "metadata": {},
   "outputs": [],
   "source": [
    "new_review = \"You When I booked with your company on line you showed me pictures of a room I thought I was getting and paying for and then when we arrived that s room was booked and the staff told me we could only book the villa suite theough them directly Which was completely false advertising After being there we realised that you have grouped lots of rooms on the photos together leaving me the consumer confused and extreamly disgruntled especially as its my my wife s 40th birthday present Please make your website more clear through pricing and photos as again I didn t really know what I was paying for and how much it had wnded up being Your photos told me I was getting something I wasn t Not happy and won t be using you again \""
   ]
  },
  {
   "cell_type": "markdown",
   "metadata": {},
   "source": [
    "### Split into sentence using NNSplit"
   ]
  },
  {
   "cell_type": "code",
   "execution_count": 70,
   "metadata": {},
   "outputs": [
    {
     "data": {
      "text/plain": [
       "[' ',\n",
       " 'You When I booked with your company on line you showed me pictures of a room ',\n",
       " 'I thought I was getting and paying for and then when we arrived that s room was booked and the staff told me we could only book the villa suite theough them directly ',\n",
       " 'Which was completely false advertising ',\n",
       " 'After being there we realised that you have grouped lots of rooms on the photos together ',\n",
       " 'leaving me ',\n",
       " 'the consumer confused and extreamly disgruntled especially as its my my wife s 40th birthday ',\n",
       " 'present ',\n",
       " 'Please make your website more clear through pricing and photos ',\n",
       " 'as again ',\n",
       " 'I didn t really know what I was paying for and how much it had wnded up being ',\n",
       " 'Your photos told me I was getting something I wasn t Not happy and won t be using you again ']"
      ]
     },
     "execution_count": 70,
     "metadata": {},
     "output_type": "execute_result"
    }
   ],
   "source": [
    "sent_list = []\n",
    "splitter = NNSplit(\"en\")\n",
    "\n",
    "sent = splitter.split([new_review])\n",
    "for i in sent[0]:\n",
    "    new_string = ''\n",
    "    for j in i:\n",
    "        new_string += j.text + \" \"\n",
    "    sent_list.append(new_string)\n",
    "    \n",
    "sent_list"
   ]
  },
  {
   "cell_type": "markdown",
   "metadata": {},
   "source": [
    "### Data Cleaning"
   ]
  },
  {
   "cell_type": "markdown",
   "metadata": {},
   "source": [
    "#### Convert all words to lower"
   ]
  },
  {
   "cell_type": "code",
   "execution_count": 71,
   "metadata": {},
   "outputs": [
    {
     "data": {
      "text/plain": [
       "[' ',\n",
       " 'you when i booked with your company on line you showed me pictures of a room ',\n",
       " 'i thought i was getting and paying for and then when we arrived that s room was booked and the staff told me we could only book the villa suite theough them directly ',\n",
       " 'which was completely false advertising ',\n",
       " 'after being there we realised that you have grouped lots of rooms on the photos together ',\n",
       " 'leaving me ',\n",
       " 'the consumer confused and extreamly disgruntled especially as its my my wife s 40th birthday ',\n",
       " 'present ',\n",
       " 'please make your website more clear through pricing and photos ',\n",
       " 'as again ',\n",
       " 'i didn t really know what i was paying for and how much it had wnded up being ',\n",
       " 'your photos told me i was getting something i wasn t not happy and won t be using you again ']"
      ]
     },
     "execution_count": 71,
     "metadata": {},
     "output_type": "execute_result"
    }
   ],
   "source": [
    "sent_list_lower = [sent.lower() for sent in sent_list]\n",
    "sent_list_lower"
   ]
  },
  {
   "cell_type": "code",
   "execution_count": 72,
   "metadata": {},
   "outputs": [
    {
     "name": "stdout",
     "output_type": "stream",
     "text": [
      " \n",
      "you when i booked with your company on line you showed me pictures of a room \n",
      "i thought i was getting and paying for and then when we arrived that s room was booked and the staff told me we could only book the villa suite theough them directly \n",
      "which was completely false advertising \n",
      "after being there we realised that you have grouped lots of rooms on the photos together \n",
      "leaving me \n",
      "the consumer confused and extreamly disgruntled especially as its my my wife s 40th birthday \n",
      "present \n",
      "please make your website more clear through pricing and photos \n",
      "as again \n",
      "i didn t really know what i was paying for and how much it had wnded up being \n",
      "your photos told me i was getting something i wasn t not happy and won t be using you again \n"
     ]
    }
   ],
   "source": [
    "for sent in sent_list_lower:\n",
    "    print(sent)"
   ]
  },
  {
   "cell_type": "markdown",
   "metadata": {},
   "source": [
    "#### Remove Stopwords"
   ]
  },
  {
   "cell_type": "code",
   "execution_count": 73,
   "metadata": {},
   "outputs": [
    {
     "name": "stdout",
     "output_type": "stream",
     "text": [
      "['', 'booked company line showed pictures room', 'thought getting paying arrived room booked staff told could book villa suite theough directly', 'completely false advertising', 'realised grouped lots rooms photos together', 'leaving', 'consumer confused extreamly disgruntled especially wife 40th birthday', 'present', 'please make website clear pricing photos', '', 'really know paying much wnded', 'photos told getting something happy using']\n"
     ]
    }
   ],
   "source": [
    "stop_list = stopwords.words('english')\n",
    "sent_list_lower_no_stopword_list = [[word for word in sent.split() if not word in stop_list] for sent in sent_list_lower]\n",
    "sent_list_lower_no_stopword = []\n",
    "for sent in sent_list_lower_no_stopword_list:\n",
    "    new_sent = ' '.join(sent)\n",
    "    sent_list_lower_no_stopword.append(new_sent)\n",
    "print(sent_list_lower_no_stopword)"
   ]
  },
  {
   "cell_type": "markdown",
   "metadata": {},
   "source": [
    "### Convert list to dataframe"
   ]
  },
  {
   "cell_type": "code",
   "execution_count": 78,
   "metadata": {},
   "outputs": [
    {
     "data": {
      "text/html": [
       "<div>\n",
       "<style scoped>\n",
       "    .dataframe tbody tr th:only-of-type {\n",
       "        vertical-align: middle;\n",
       "    }\n",
       "\n",
       "    .dataframe tbody tr th {\n",
       "        vertical-align: top;\n",
       "    }\n",
       "\n",
       "    .dataframe thead th {\n",
       "        text-align: right;\n",
       "    }\n",
       "</style>\n",
       "<table border=\"1\" class=\"dataframe\">\n",
       "  <thead>\n",
       "    <tr style=\"text-align: right;\">\n",
       "      <th></th>\n",
       "      <th>sentence</th>\n",
       "    </tr>\n",
       "  </thead>\n",
       "  <tbody>\n",
       "    <tr>\n",
       "      <th>0</th>\n",
       "      <td></td>\n",
       "    </tr>\n",
       "    <tr>\n",
       "      <th>1</th>\n",
       "      <td>you when i booked with your company on line you showed me pictures of a room</td>\n",
       "    </tr>\n",
       "    <tr>\n",
       "      <th>2</th>\n",
       "      <td>i thought i was getting and paying for and then when we arrived that s room was booked and the staff told me we could only book the villa suite theough them directly</td>\n",
       "    </tr>\n",
       "    <tr>\n",
       "      <th>3</th>\n",
       "      <td>which was completely false advertising</td>\n",
       "    </tr>\n",
       "    <tr>\n",
       "      <th>4</th>\n",
       "      <td>after being there we realised that you have grouped lots of rooms on the photos together</td>\n",
       "    </tr>\n",
       "    <tr>\n",
       "      <th>5</th>\n",
       "      <td>leaving me</td>\n",
       "    </tr>\n",
       "    <tr>\n",
       "      <th>6</th>\n",
       "      <td>the consumer confused and extreamly disgruntled especially as its my my wife s 40th birthday</td>\n",
       "    </tr>\n",
       "    <tr>\n",
       "      <th>7</th>\n",
       "      <td>present</td>\n",
       "    </tr>\n",
       "    <tr>\n",
       "      <th>8</th>\n",
       "      <td>please make your website more clear through pricing and photos</td>\n",
       "    </tr>\n",
       "    <tr>\n",
       "      <th>9</th>\n",
       "      <td>as again</td>\n",
       "    </tr>\n",
       "    <tr>\n",
       "      <th>10</th>\n",
       "      <td>i didn t really know what i was paying for and how much it had wnded up being</td>\n",
       "    </tr>\n",
       "    <tr>\n",
       "      <th>11</th>\n",
       "      <td>your photos told me i was getting something i wasn t not happy and won t be using you again</td>\n",
       "    </tr>\n",
       "  </tbody>\n",
       "</table>\n",
       "</div>"
      ],
      "text/plain": [
       "                                                                                                                                                                  sentence\n",
       "0                                                                                                                                                                         \n",
       "1   you when i booked with your company on line you showed me pictures of a room                                                                                          \n",
       "2   i thought i was getting and paying for and then when we arrived that s room was booked and the staff told me we could only book the villa suite theough them directly \n",
       "3   which was completely false advertising                                                                                                                                \n",
       "4   after being there we realised that you have grouped lots of rooms on the photos together                                                                              \n",
       "5   leaving me                                                                                                                                                            \n",
       "6   the consumer confused and extreamly disgruntled especially as its my my wife s 40th birthday                                                                          \n",
       "7   present                                                                                                                                                               \n",
       "8   please make your website more clear through pricing and photos                                                                                                        \n",
       "9   as again                                                                                                                                                              \n",
       "10  i didn t really know what i was paying for and how much it had wnded up being                                                                                         \n",
       "11  your photos told me i was getting something i wasn t not happy and won t be using you again                                                                           "
      ]
     },
     "execution_count": 78,
     "metadata": {},
     "output_type": "execute_result"
    }
   ],
   "source": [
    "data = pd.DataFrame(sent_list_lower, columns=[\"sentence\"])\n",
    "data"
   ]
  },
  {
   "cell_type": "markdown",
   "metadata": {},
   "source": [
    "### Get polarity"
   ]
  },
  {
   "cell_type": "code",
   "execution_count": 79,
   "metadata": {},
   "outputs": [
    {
     "data": {
      "text/html": [
       "<div>\n",
       "<style scoped>\n",
       "    .dataframe tbody tr th:only-of-type {\n",
       "        vertical-align: middle;\n",
       "    }\n",
       "\n",
       "    .dataframe tbody tr th {\n",
       "        vertical-align: top;\n",
       "    }\n",
       "\n",
       "    .dataframe thead th {\n",
       "        text-align: right;\n",
       "    }\n",
       "</style>\n",
       "<table border=\"1\" class=\"dataframe\">\n",
       "  <thead>\n",
       "    <tr style=\"text-align: right;\">\n",
       "      <th></th>\n",
       "      <th>sentence</th>\n",
       "      <th>polarity</th>\n",
       "    </tr>\n",
       "  </thead>\n",
       "  <tbody>\n",
       "    <tr>\n",
       "      <th>0</th>\n",
       "      <td></td>\n",
       "      <td>0.0000</td>\n",
       "    </tr>\n",
       "    <tr>\n",
       "      <th>1</th>\n",
       "      <td>you when i booked with your company on line you showed me pictures of a room</td>\n",
       "      <td>0.0000</td>\n",
       "    </tr>\n",
       "    <tr>\n",
       "      <th>2</th>\n",
       "      <td>i thought i was getting and paying for and then when we arrived that s room was booked and the staff told me we could only book the villa suite theough them directly</td>\n",
       "      <td>0.0000</td>\n",
       "    </tr>\n",
       "    <tr>\n",
       "      <th>3</th>\n",
       "      <td>which was completely false advertising</td>\n",
       "      <td>0.0000</td>\n",
       "    </tr>\n",
       "    <tr>\n",
       "      <th>4</th>\n",
       "      <td>after being there we realised that you have grouped lots of rooms on the photos together</td>\n",
       "      <td>0.0000</td>\n",
       "    </tr>\n",
       "    <tr>\n",
       "      <th>5</th>\n",
       "      <td>leaving me</td>\n",
       "      <td>0.0000</td>\n",
       "    </tr>\n",
       "    <tr>\n",
       "      <th>6</th>\n",
       "      <td>the consumer confused and extreamly disgruntled especially as its my my wife s 40th birthday</td>\n",
       "      <td>-0.3182</td>\n",
       "    </tr>\n",
       "    <tr>\n",
       "      <th>7</th>\n",
       "      <td>present</td>\n",
       "      <td>0.0000</td>\n",
       "    </tr>\n",
       "    <tr>\n",
       "      <th>8</th>\n",
       "      <td>please make your website more clear through pricing and photos</td>\n",
       "      <td>0.6361</td>\n",
       "    </tr>\n",
       "    <tr>\n",
       "      <th>9</th>\n",
       "      <td>as again</td>\n",
       "      <td>0.0000</td>\n",
       "    </tr>\n",
       "    <tr>\n",
       "      <th>10</th>\n",
       "      <td>i didn t really know what i was paying for and how much it had wnded up being</td>\n",
       "      <td>0.0000</td>\n",
       "    </tr>\n",
       "    <tr>\n",
       "      <th>11</th>\n",
       "      <td>your photos told me i was getting something i wasn t not happy and won t be using you again</td>\n",
       "      <td>-0.7181</td>\n",
       "    </tr>\n",
       "  </tbody>\n",
       "</table>\n",
       "</div>"
      ],
      "text/plain": [
       "                                                                                                                                                                  sentence  \\\n",
       "0                                                                                                                                                                            \n",
       "1   you when i booked with your company on line you showed me pictures of a room                                                                                             \n",
       "2   i thought i was getting and paying for and then when we arrived that s room was booked and the staff told me we could only book the villa suite theough them directly    \n",
       "3   which was completely false advertising                                                                                                                                   \n",
       "4   after being there we realised that you have grouped lots of rooms on the photos together                                                                                 \n",
       "5   leaving me                                                                                                                                                               \n",
       "6   the consumer confused and extreamly disgruntled especially as its my my wife s 40th birthday                                                                             \n",
       "7   present                                                                                                                                                                  \n",
       "8   please make your website more clear through pricing and photos                                                                                                           \n",
       "9   as again                                                                                                                                                                 \n",
       "10  i didn t really know what i was paying for and how much it had wnded up being                                                                                            \n",
       "11  your photos told me i was getting something i wasn t not happy and won t be using you again                                                                              \n",
       "\n",
       "    polarity  \n",
       "0   0.0000    \n",
       "1   0.0000    \n",
       "2   0.0000    \n",
       "3   0.0000    \n",
       "4   0.0000    \n",
       "5   0.0000    \n",
       "6  -0.3182    \n",
       "7   0.0000    \n",
       "8   0.6361    \n",
       "9   0.0000    \n",
       "10  0.0000    \n",
       "11 -0.7181    "
      ]
     },
     "execution_count": 79,
     "metadata": {},
     "output_type": "execute_result"
    }
   ],
   "source": [
    "# This function gets the polarity of reviews using Vader # \n",
    "def get_polarity(sentence):\n",
    "    analyser = SentimentIntensityAnalyzer()\n",
    "    score = analyser.polarity_scores(sentence)\n",
    "    compound = score['compound']\n",
    "    return compound\n",
    "\n",
    "data['polarity'] = data['sentence'].apply(get_polarity)\n",
    "data"
   ]
  },
  {
   "cell_type": "markdown",
   "metadata": {},
   "source": [
    "### Filter sentence above 8 words"
   ]
  },
  {
   "cell_type": "code",
   "execution_count": 80,
   "metadata": {},
   "outputs": [
    {
     "data": {
      "text/html": [
       "<div>\n",
       "<style scoped>\n",
       "    .dataframe tbody tr th:only-of-type {\n",
       "        vertical-align: middle;\n",
       "    }\n",
       "\n",
       "    .dataframe tbody tr th {\n",
       "        vertical-align: top;\n",
       "    }\n",
       "\n",
       "    .dataframe thead th {\n",
       "        text-align: right;\n",
       "    }\n",
       "</style>\n",
       "<table border=\"1\" class=\"dataframe\">\n",
       "  <thead>\n",
       "    <tr style=\"text-align: right;\">\n",
       "      <th></th>\n",
       "      <th>sentence</th>\n",
       "      <th>polarity</th>\n",
       "    </tr>\n",
       "  </thead>\n",
       "  <tbody>\n",
       "    <tr>\n",
       "      <th>1</th>\n",
       "      <td>you when i booked with your company on line you showed me pictures of a room</td>\n",
       "      <td>0.0000</td>\n",
       "    </tr>\n",
       "    <tr>\n",
       "      <th>2</th>\n",
       "      <td>i thought i was getting and paying for and then when we arrived that s room was booked and the staff told me we could only book the villa suite theough them directly</td>\n",
       "      <td>0.0000</td>\n",
       "    </tr>\n",
       "    <tr>\n",
       "      <th>4</th>\n",
       "      <td>after being there we realised that you have grouped lots of rooms on the photos together</td>\n",
       "      <td>0.0000</td>\n",
       "    </tr>\n",
       "    <tr>\n",
       "      <th>6</th>\n",
       "      <td>the consumer confused and extreamly disgruntled especially as its my my wife s 40th birthday</td>\n",
       "      <td>-0.3182</td>\n",
       "    </tr>\n",
       "    <tr>\n",
       "      <th>8</th>\n",
       "      <td>please make your website more clear through pricing and photos</td>\n",
       "      <td>0.6361</td>\n",
       "    </tr>\n",
       "    <tr>\n",
       "      <th>10</th>\n",
       "      <td>i didn t really know what i was paying for and how much it had wnded up being</td>\n",
       "      <td>0.0000</td>\n",
       "    </tr>\n",
       "    <tr>\n",
       "      <th>11</th>\n",
       "      <td>your photos told me i was getting something i wasn t not happy and won t be using you again</td>\n",
       "      <td>-0.7181</td>\n",
       "    </tr>\n",
       "  </tbody>\n",
       "</table>\n",
       "</div>"
      ],
      "text/plain": [
       "                                                                                                                                                                  sentence  \\\n",
       "1   you when i booked with your company on line you showed me pictures of a room                                                                                             \n",
       "2   i thought i was getting and paying for and then when we arrived that s room was booked and the staff told me we could only book the villa suite theough them directly    \n",
       "4   after being there we realised that you have grouped lots of rooms on the photos together                                                                                 \n",
       "6   the consumer confused and extreamly disgruntled especially as its my my wife s 40th birthday                                                                             \n",
       "8   please make your website more clear through pricing and photos                                                                                                           \n",
       "10  i didn t really know what i was paying for and how much it had wnded up being                                                                                            \n",
       "11  your photos told me i was getting something i wasn t not happy and won t be using you again                                                                              \n",
       "\n",
       "    polarity  \n",
       "1   0.0000    \n",
       "2   0.0000    \n",
       "4   0.0000    \n",
       "6  -0.3182    \n",
       "8   0.6361    \n",
       "10  0.0000    \n",
       "11 -0.7181    "
      ]
     },
     "execution_count": 80,
     "metadata": {},
     "output_type": "execute_result"
    }
   ],
   "source": [
    "def number_words(sentence):\n",
    "    return len(re.findall(r'\\w+', str(sentence)))\n",
    "\n",
    "length = (data['sentence'].apply(number_words) >= 8)\n",
    "\n",
    "data = data.loc[length]\n",
    "data"
   ]
  },
  {
   "cell_type": "markdown",
   "metadata": {},
   "source": [
    "### Aggregated polarity score"
   ]
  },
  {
   "cell_type": "code",
   "execution_count": 81,
   "metadata": {},
   "outputs": [
    {
     "name": "stdout",
     "output_type": "stream",
     "text": [
      "('negative', -0.05717142857142856)\n"
     ]
    }
   ],
   "source": [
    "polarity = data['polarity'].mean()\n",
    "if polarity >= 0.05:\n",
    "    sentiment = ('positive', polarity)\n",
    "elif polarity > -0.05 and polarity < 0.05: \n",
    "    sentiment = ('neutral', polarity)\n",
    "else: \n",
    "    sentiment = ('negative', polarity)\n",
    "print(sentiment)"
   ]
  },
  {
   "cell_type": "markdown",
   "metadata": {},
   "source": [
    "## Not valid beyond this point"
   ]
  },
  {
   "cell_type": "code",
   "execution_count": null,
   "metadata": {},
   "outputs": [],
   "source": [
    "data = pd.read_csv(\"./data/sentence_data.csv\")\n",
    "data"
   ]
  },
  {
   "cell_type": "code",
   "execution_count": null,
   "metadata": {},
   "outputs": [],
   "source": [
    "data.columns = ['city', 'country', 'reviews', 'sentence']\n",
    "data = data[0:100000]"
   ]
  },
  {
   "cell_type": "markdown",
   "metadata": {},
   "source": [
    "## Get Vader polarity score"
   ]
  },
  {
   "cell_type": "code",
   "execution_count": null,
   "metadata": {},
   "outputs": [],
   "source": [
    "# This function gets the polarity of reviews using Vader # \n",
    "def get_polarity(sentence):\n",
    "    analyser = SentimentIntensityAnalyzer()\n",
    "    score = analyser.polarity_scores(sentence)\n",
    "    compound = score['compound']\n",
    "    return compound\n",
    "    \n",
    "data['polarity'] = data['sentence'].apply(get_polarity)\n",
    "data"
   ]
  },
  {
   "cell_type": "code",
   "execution_count": null,
   "metadata": {},
   "outputs": [],
   "source": [
    "def number_words(sentence):\n",
    "    return len(re.findall(r'\\w+', str(sentence)))\n",
    "\n",
    "length = (data['sentence'].apply(number_words) > 1)\n",
    "data = data.loc[length]"
   ]
  },
  {
   "cell_type": "markdown",
   "metadata": {},
   "source": [
    "## Aggregate the polarity by grouping sentence by reviews"
   ]
  },
  {
   "cell_type": "code",
   "execution_count": null,
   "metadata": {},
   "outputs": [],
   "source": [
    "data['agg_polarity'] = data.groupby('reviews')['polarity'].transform('mean')"
   ]
  },
  {
   "cell_type": "code",
   "execution_count": null,
   "metadata": {},
   "outputs": [],
   "source": [
    "# data = data.drop_duplicates(subset=\"reviews\", keep=\"first\")\n",
    "# data = data.drop(['sentence','polarity'], axis=1)"
   ]
  },
  {
   "cell_type": "code",
   "execution_count": null,
   "metadata": {},
   "outputs": [],
   "source": [
    "data[\"review_sentiment\"] = [\"positive\" if x>=0.196725 else (\"neutral\" if x>=0.096725 else \"negative\") for x in data['agg_polarity']]\n",
    "data"
   ]
  },
  {
   "cell_type": "code",
   "execution_count": null,
   "metadata": {},
   "outputs": [],
   "source": [
    "data[\"sen_sentiment\"] = [\"positive\" if x>=0.1779 else (\"neutral\" if x>=0.01779 else \"negative\") for x in data['polarity']]\n",
    "data"
   ]
  },
  {
   "cell_type": "markdown",
   "metadata": {},
   "source": [
    "## Export "
   ]
  },
  {
   "cell_type": "code",
   "execution_count": null,
   "metadata": {},
   "outputs": [],
   "source": [
    "data.to_csv('./data/tagged_sentence_data.csv', index=False)"
   ]
  },
  {
   "cell_type": "markdown",
   "metadata": {},
   "source": [
    "## Setting to run to see all dataframe row"
   ]
  },
  {
   "cell_type": "code",
   "execution_count": null,
   "metadata": {},
   "outputs": [],
   "source": [
    "# view_data = data.loc[:, \"sentence\":\"sentiment\"]\n",
    "data.sort_values(by=['agg_polarity'], axis=0, inplace=True,ascending=False)\n",
    "\n",
    "pd.set_option('display.max_rows',None)\n",
    "pd.set_option('display.width', None)\n",
    "pd.set_option('display.max_colwidth', -1)\n",
    "data\n",
    "# Threshold: if polarity <= 0.1779: Negative"
   ]
  },
  {
   "cell_type": "code",
   "execution_count": 9,
   "metadata": {},
   "outputs": [
    {
     "name": "stderr",
     "output_type": "stream",
     "text": [
      "/Users/yuankanglee/opt/anaconda3/lib/python3.7/site-packages/ipykernel_launcher.py:3: FutureWarning: Passing a negative integer is deprecated in version 1.0 and will not be supported in future version. Instead, use None to not limit the column width.\n",
      "  This is separate from the ipykernel package so we can avoid doing imports until\n"
     ]
    }
   ],
   "source": [
    "pd.set_option('display.max_rows',None)\n",
    "pd.set_option('display.width', None)\n",
    "pd.set_option('display.max_colwidth', -1)"
   ]
  },
  {
   "cell_type": "code",
   "execution_count": null,
   "metadata": {},
   "outputs": [],
   "source": []
  }
 ],
 "metadata": {
  "kernelspec": {
   "display_name": "Python 3",
   "language": "python",
   "name": "python3"
  },
  "language_info": {
   "codemirror_mode": {
    "name": "ipython",
    "version": 3
   },
   "file_extension": ".py",
   "mimetype": "text/x-python",
   "name": "python",
   "nbconvert_exporter": "python",
   "pygments_lexer": "ipython3",
   "version": "3.7.6"
  }
 },
 "nbformat": 4,
 "nbformat_minor": 4
}
