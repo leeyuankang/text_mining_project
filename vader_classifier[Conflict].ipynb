{
 "cells": [
  {
   "cell_type": "markdown",
   "metadata": {},
   "source": [
    "# Sentiment Tagging with Vader"
   ]
  },
  {
   "cell_type": "code",
   "execution_count": 1,
   "metadata": {},
   "outputs": [],
   "source": [
    "import pandas as pd\n",
    "from vaderSentiment.vaderSentiment import SentimentIntensityAnalyzer\n",
    "import re"
   ]
  },
  {
   "cell_type": "code",
   "execution_count": 2,
   "metadata": {},
   "outputs": [
    {
     "data": {
      "text/html": [
       "<div>\n",
       "<style scoped>\n",
       "    .dataframe tbody tr th:only-of-type {\n",
       "        vertical-align: middle;\n",
       "    }\n",
       "\n",
       "    .dataframe tbody tr th {\n",
       "        vertical-align: top;\n",
       "    }\n",
       "\n",
       "    .dataframe thead th {\n",
       "        text-align: right;\n",
       "    }\n",
       "</style>\n",
       "<table border=\"1\" class=\"dataframe\">\n",
       "  <thead>\n",
       "    <tr style=\"text-align: right;\">\n",
       "      <th></th>\n",
       "      <th>city</th>\n",
       "      <th>country</th>\n",
       "      <th>Review</th>\n",
       "      <th>sent_list</th>\n",
       "    </tr>\n",
       "  </thead>\n",
       "  <tbody>\n",
       "    <tr>\n",
       "      <th>0</th>\n",
       "      <td>Vienna</td>\n",
       "      <td>Austria</td>\n",
       "      <td>Location was good Have stayed before I e 9yrs...</td>\n",
       "      <td>Have stayed before I e 9yrs ago shop no longer...</td>\n",
       "    </tr>\n",
       "    <tr>\n",
       "      <th>1</th>\n",
       "      <td>Vienna</td>\n",
       "      <td>Austria</td>\n",
       "      <td>Breakfast options are limited Personally i wo...</td>\n",
       "      <td>Personally i would choose a hotel closer to an...</td>\n",
       "    </tr>\n",
       "    <tr>\n",
       "      <th>2</th>\n",
       "      <td>City of London</td>\n",
       "      <td>United Kingdom</td>\n",
       "      <td>The room was a great size for a city hotel Th...</td>\n",
       "      <td>The room was a great size for a city hotel</td>\n",
       "    </tr>\n",
       "    <tr>\n",
       "      <th>3</th>\n",
       "      <td>City of London</td>\n",
       "      <td>United Kingdom</td>\n",
       "      <td>The room was a great size for a city hotel Th...</td>\n",
       "      <td>The shower was great Lovely old building with ...</td>\n",
       "    </tr>\n",
       "    <tr>\n",
       "      <th>4</th>\n",
       "      <td>West End of London</td>\n",
       "      <td>United Kingdom</td>\n",
       "      <td>The room was small and the bathroom was minut...</td>\n",
       "      <td>The room was small and the bathroom was minute</td>\n",
       "    </tr>\n",
       "    <tr>\n",
       "      <th>...</th>\n",
       "      <td>...</td>\n",
       "      <td>...</td>\n",
       "      <td>...</td>\n",
       "      <td>...</td>\n",
       "    </tr>\n",
       "    <tr>\n",
       "      <th>968664</th>\n",
       "      <td>el Besòs i el Maresme</td>\n",
       "      <td>Spain</td>\n",
       "      <td>Reception area very shabby Walls in bedroom w...</td>\n",
       "      <td>Walls in bedroom were so thin you could hear e...</td>\n",
       "    </tr>\n",
       "    <tr>\n",
       "      <th>968665</th>\n",
       "      <td>Vienna</td>\n",
       "      <td>Austria</td>\n",
       "      <td>I was informed when I checked in that I would...</td>\n",
       "      <td>I was informed when I checked in that I would ...</td>\n",
       "    </tr>\n",
       "    <tr>\n",
       "      <th>968666</th>\n",
       "      <td>Amsterdam</td>\n",
       "      <td>Netherlands</td>\n",
       "      <td>Could hear other people shutting doors but di...</td>\n",
       "      <td>Could hear other people shutting doors but did...</td>\n",
       "    </tr>\n",
       "    <tr>\n",
       "      <th>968667</th>\n",
       "      <td>Vienna</td>\n",
       "      <td>Austria</td>\n",
       "      <td>Hotel is showing signs of wear Room furniture...</td>\n",
       "      <td>Room furniture was worn and shabby bed amazing...</td>\n",
       "    </tr>\n",
       "    <tr>\n",
       "      <th>968668</th>\n",
       "      <td>Levallois-Perret</td>\n",
       "      <td>France</td>\n",
       "      <td>toilet Did not not flush Inbathroom of hotelr...</td>\n",
       "      <td>toilet Did not not flush Inbathroom of hotelro...</td>\n",
       "    </tr>\n",
       "  </tbody>\n",
       "</table>\n",
       "<p>968669 rows × 4 columns</p>\n",
       "</div>"
      ],
      "text/plain": [
       "                         city         country  \\\n",
       "0                      Vienna         Austria   \n",
       "1                      Vienna         Austria   \n",
       "2              City of London  United Kingdom   \n",
       "3              City of London  United Kingdom   \n",
       "4          West End of London  United Kingdom   \n",
       "...                       ...             ...   \n",
       "968664  el Besòs i el Maresme           Spain   \n",
       "968665                 Vienna         Austria   \n",
       "968666              Amsterdam     Netherlands   \n",
       "968667                 Vienna         Austria   \n",
       "968668       Levallois-Perret          France   \n",
       "\n",
       "                                                   Review  \\\n",
       "0        Location was good Have stayed before I e 9yrs...   \n",
       "1        Breakfast options are limited Personally i wo...   \n",
       "2        The room was a great size for a city hotel Th...   \n",
       "3        The room was a great size for a city hotel Th...   \n",
       "4        The room was small and the bathroom was minut...   \n",
       "...                                                   ...   \n",
       "968664   Reception area very shabby Walls in bedroom w...   \n",
       "968665   I was informed when I checked in that I would...   \n",
       "968666   Could hear other people shutting doors but di...   \n",
       "968667   Hotel is showing signs of wear Room furniture...   \n",
       "968668   toilet Did not not flush Inbathroom of hotelr...   \n",
       "\n",
       "                                                sent_list  \n",
       "0       Have stayed before I e 9yrs ago shop no longer...  \n",
       "1       Personally i would choose a hotel closer to an...  \n",
       "2              The room was a great size for a city hotel  \n",
       "3       The shower was great Lovely old building with ...  \n",
       "4          The room was small and the bathroom was minute  \n",
       "...                                                   ...  \n",
       "968664  Walls in bedroom were so thin you could hear e...  \n",
       "968665  I was informed when I checked in that I would ...  \n",
       "968666  Could hear other people shutting doors but did...  \n",
       "968667  Room furniture was worn and shabby bed amazing...  \n",
       "968668  toilet Did not not flush Inbathroom of hotelro...  \n",
       "\n",
       "[968669 rows x 4 columns]"
      ]
     },
     "execution_count": 2,
     "metadata": {},
     "output_type": "execute_result"
    }
   ],
   "source": [
    "data = pd.read_csv(\"./data/sentence_data.csv\")\n",
    "data"
   ]
  },
  {
   "cell_type": "code",
   "execution_count": 3,
   "metadata": {},
   "outputs": [],
   "source": [
    "data.columns = ['city', 'country', 'reviews', 'sentence']\n",
    "data = data[0:100000]"
   ]
  },
  {
   "cell_type": "markdown",
   "metadata": {},
   "source": [
    "## Get Vader polarity score"
   ]
  },
  {
   "cell_type": "code",
   "execution_count": null,
   "metadata": {},
   "outputs": [],
   "source": [
    "# This function gets the polarity of reviews using Vader # \n",
    "def get_polarity(sentence):\n",
    "    analyser = SentimentIntensityAnalyzer()\n",
    "    score = analyser.polarity_scores(sentence)\n",
    "    compound = score['compound']\n",
    "    return compound\n",
    "    \n",
    "data['polarity'] = data['sentence'].apply(get_polarity)\n",
    "data"
   ]
  },
  {
   "cell_type": "code",
   "execution_count": null,
   "metadata": {},
   "outputs": [],
   "source": [
    "def number_words(sentence):\n",
    "    return len(re.findall(r'\\w+', str(sentence)))\n",
    "\n",
    "length = (data['sentence'].apply(number_words) > 1)\n",
    "data = data.loc[length]"
   ]
  },
  {
   "cell_type": "markdown",
   "metadata": {},
   "source": [
    "## Aggregate the polarity by grouping sentence by reviews"
   ]
  },
  {
   "cell_type": "code",
   "execution_count": null,
   "metadata": {},
   "outputs": [],
   "source": [
    "data['agg_polarity'] = data.groupby('reviews')['polarity'].transform('mean')"
   ]
  },
  {
   "cell_type": "code",
   "execution_count": null,
   "metadata": {},
   "outputs": [],
   "source": [
    "data = data.drop_duplicates(subset=\"reviews\", keep=\"first\")\n",
    "data = data.drop(['sentence','polarity'], axis=1)"
   ]
  },
  {
   "cell_type": "code",
   "execution_count": null,
   "metadata": {},
   "outputs": [],
   "source": [
    "data[\"sentiment\"] = [\"positive\" if x>=0.196725 else (\"neutral\" if x>=0.096725 else \"negative\") for x in data['agg_polarity']]\n",
    "data"
   ]
  },
  {
   "cell_type": "markdown",
   "metadata": {},
   "source": [
    "## Export "
   ]
  },
  {
   "cell_type": "code",
   "execution_count": null,
   "metadata": {},
   "outputs": [],
   "source": [
    "data.to_csv('./data/tagged_sentence_data.csv', index=False)"
   ]
  },
  {
   "cell_type": "markdown",
   "metadata": {},
   "source": [
    "## Setting to run to see all dataframe row"
   ]
  },
  {
   "cell_type": "code",
   "execution_count": null,
   "metadata": {},
   "outputs": [],
   "source": [
    "# view_data = data.loc[:, \"sentence\":\"sentiment\"]\n",
    "data.sort_values(by=['agg_polarity'], axis=0, inplace=True,ascending=False)\n",
    "\n",
    "pd.set_option('display.max_rows',None)\n",
    "pd.set_option('display.width', None)\n",
    "pd.set_option('display.max_colwidth', -1)\n",
    "data\n",
    "# Threshold: if polarity <= 0.1779: Negative"
   ]
  },
  {
   "cell_type": "code",
   "execution_count": null,
   "metadata": {},
   "outputs": [],
   "source": [
    "pd.set_option('display.max_rows',None)\n",
    "pd.set_option('display.width', None)\n",
    "pd.set_option('display.max_colwidth', -1)\n",
    "view_data"
   ]
  },
  {
   "cell_type": "code",
   "execution_count": null,
   "metadata": {},
   "outputs": [],
   "source": []
  }
 ],
 "metadata": {
  "kernelspec": {
   "display_name": "Python 3",
   "language": "python",
   "name": "python3"
  },
  "language_info": {
   "codemirror_mode": {
    "name": "ipython",
    "version": 3
   },
   "file_extension": ".py",
   "mimetype": "text/x-python",
   "name": "python",
   "nbconvert_exporter": "python",
   "pygments_lexer": "ipython3",
   "version": "3.7.6"
  }
 },
 "nbformat": 4,
 "nbformat_minor": 4
}
